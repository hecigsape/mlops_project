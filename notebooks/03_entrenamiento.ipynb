{
  "cells": [
    {
      "cell_type": "code",
      "execution_count": null,
      "metadata": {
        "colab": {
          "base_uri": "https://localhost:8080/"
        },
        "id": "24EFuTKQVMIT",
        "outputId": "d6a35253-c272-4edf-d4dc-ffad5750c3e3"
      },
      "outputs": [
        {
          "output_type": "stream",
          "name": "stdout",
          "text": [
            "Estructura de directorios y archivos creada con éxito.\n"
          ]
        }
      ],
      "source": [
        "import os\n",
        "\n",
        "# Definir la estructura del proyecto\n",
        "directories = [\n",
        "    \"data/raw\",\n",
        "    \"data/processed\",\n",
        "    \"data/external\",\n",
        "    \"data/interim\",\n",
        "\n",
        "]\n",
        "\n",
        "# Crear los directorios\n",
        "for directory in directories:\n",
        "    os.makedirs(directory, exist_ok=True)\n",
        "\n",
        "\n",
        "\n",
        "print(\"Estructura de directorios y archivos creada con éxito.\")\n"
      ]
    },
    {
      "cell_type": "code",
      "source": [
        "!pip install fasttext"
      ],
      "metadata": {
        "colab": {
          "base_uri": "https://localhost:8080/"
        },
        "id": "8vHOggtP8HRV",
        "outputId": "628632f8-eb08-4997-a3a7-ffa7793d5121"
      },
      "execution_count": null,
      "outputs": [
        {
          "output_type": "stream",
          "name": "stdout",
          "text": [
            "Collecting fasttext\n",
            "  Downloading fasttext-0.9.3.tar.gz (73 kB)\n",
            "\u001b[?25l     \u001b[90m━━━━━━━━━━━━━━━━━━━━━━━━━━━━━━━━━━━━━━━━\u001b[0m \u001b[32m0.0/73.4 kB\u001b[0m \u001b[31m?\u001b[0m eta \u001b[36m-:--:--\u001b[0m\r\u001b[2K     \u001b[91m━━━━━━━━━━━━━━━━━━━━━━━━━━━━━━━━━━━━━━━\u001b[0m\u001b[90m╺\u001b[0m \u001b[32m71.7/73.4 kB\u001b[0m \u001b[31m3.1 MB/s\u001b[0m eta \u001b[36m0:00:01\u001b[0m\r\u001b[2K     \u001b[90m━━━━━━━━━━━━━━━━━━━━━━━━━━━━━━━━━━━━━━━━\u001b[0m \u001b[32m73.4/73.4 kB\u001b[0m \u001b[31m1.8 MB/s\u001b[0m eta \u001b[36m0:00:00\u001b[0m\n",
            "\u001b[?25h  Installing build dependencies ... \u001b[?25l\u001b[?25hdone\n",
            "  Getting requirements to build wheel ... \u001b[?25l\u001b[?25hdone\n",
            "  Preparing metadata (pyproject.toml) ... \u001b[?25l\u001b[?25hdone\n",
            "Collecting pybind11>=2.2 (from fasttext)\n",
            "  Using cached pybind11-2.13.6-py3-none-any.whl.metadata (9.5 kB)\n",
            "Requirement already satisfied: setuptools>=0.7.0 in /usr/local/lib/python3.11/dist-packages (from fasttext) (75.1.0)\n",
            "Requirement already satisfied: numpy in /usr/local/lib/python3.11/dist-packages (from fasttext) (2.0.2)\n",
            "Using cached pybind11-2.13.6-py3-none-any.whl (243 kB)\n",
            "Building wheels for collected packages: fasttext\n",
            "  Building wheel for fasttext (pyproject.toml) ... \u001b[?25l\u001b[?25hdone\n",
            "  Created wheel for fasttext: filename=fasttext-0.9.3-cp311-cp311-linux_x86_64.whl size=4313502 sha256=d1ec01b93a1f5ea6916c075939ee88426abb92b13cb503fdb32b3534cf49358b\n",
            "  Stored in directory: /root/.cache/pip/wheels/65/4f/35/5057db0249224e9ab55a513fa6b79451473ceb7713017823c3\n",
            "Successfully built fasttext\n",
            "Installing collected packages: pybind11, fasttext\n",
            "Successfully installed fasttext-0.9.3 pybind11-2.13.6\n"
          ]
        }
      ]
    },
    {
      "cell_type": "code",
      "execution_count": null,
      "metadata": {
        "colab": {
          "base_uri": "https://localhost:8080/"
        },
        "id": "m1NREvVu6HIY",
        "outputId": "507a4032-0262-49d8-d134-6a593f9a6c46"
      },
      "outputs": [
        {
          "output_type": "stream",
          "name": "stdout",
          "text": [
            "Requirement already satisfied: pyspark in /usr/local/lib/python3.11/dist-packages (3.5.5)\n",
            "Requirement already satisfied: py4j==0.10.9.7 in /usr/local/lib/python3.11/dist-packages (from pyspark) (0.10.9.7)\n"
          ]
        }
      ],
      "source": [
        "!pip install pyspark"
      ]
    },
    {
      "cell_type": "code",
      "execution_count": null,
      "metadata": {
        "colab": {
          "base_uri": "https://localhost:8080/"
        },
        "id": "1Lw8nmfLXPHg",
        "outputId": "cb5249a3-ab03-491d-e560-0a95260072f9"
      },
      "outputs": [
        {
          "output_type": "stream",
          "name": "stdout",
          "text": [
            "🔹 Clase 0: 809052 registros\n",
            "🔹 Clase 1: 809802 registros\n",
            "✅ El dataset está balanceado.\n"
          ]
        }
      ],
      "source": [
        "from pyspark.sql import SparkSession\n",
        "from pyspark.sql.functions import count, col\n",
        "\n",
        "def create_spark_session():\n",
        "    \"\"\"Crea una sesión de Spark.\"\"\"\n",
        "    return SparkSession.builder.appName(\"ValidacionBalanceo\").getOrCreate()\n",
        "\n",
        "def validate_balance(file_path):\n",
        "    \"\"\"Valida que el dataset tenga clases balanceadas.\"\"\"\n",
        "    spark = create_spark_session()\n",
        "    df = spark.read.parquet(file_path)\n",
        "\n",
        "    # Contar registros por clase\n",
        "    class_counts = df.groupBy(\"label\").count().orderBy(\"label\").collect()\n",
        "\n",
        "    # Mostrar resultados\n",
        "    for row in class_counts:\n",
        "        print(f\"🔹 Clase {row['label']}: {row['count']} registros\")\n",
        "\n",
        "    # Validar si el dataset está balanceado\n",
        "    if abs(class_counts[0]['count'] - class_counts[1]['count']) <= 0.05 * class_counts[0]['count']:\n",
        "        print(\"✅ El dataset está balanceado.\")\n",
        "    else:\n",
        "        print(\"⚠️ Advertencia: Las clases no están completamente balanceadas.\")\n",
        "\n",
        "# if __name__ == \"__main__\":\n",
        "processed_data_path = \"data/processed/Software_processed.parquet\"\n",
        "validate_balance(processed_data_path)\n"
      ]
    },
    {
      "cell_type": "code",
      "source": [
        "!wget https://dl.fbaipublicfiles.com/fasttext/supervised-models/lid.176.bin -P models/\n"
      ],
      "metadata": {
        "colab": {
          "base_uri": "https://localhost:8080/"
        },
        "id": "K6hkSUjI8oPo",
        "outputId": "da13fada-0f27-4459-e4ba-610b23ec6a20"
      },
      "execution_count": null,
      "outputs": [
        {
          "output_type": "stream",
          "name": "stdout",
          "text": [
            "--2025-03-20 00:27:32--  https://dl.fbaipublicfiles.com/fasttext/supervised-models/lid.176.bin\n",
            "Resolving dl.fbaipublicfiles.com (dl.fbaipublicfiles.com)... 13.226.34.53, 13.226.34.7, 13.226.34.83, ...\n",
            "Connecting to dl.fbaipublicfiles.com (dl.fbaipublicfiles.com)|13.226.34.53|:443... connected.\n",
            "HTTP request sent, awaiting response... 200 OK\n",
            "Length: 131266198 (125M) [application/octet-stream]\n",
            "Saving to: ‘models/lid.176.bin’\n",
            "\n",
            "lid.176.bin         100%[===================>] 125.18M   159MB/s    in 0.8s    \n",
            "\n",
            "2025-03-20 00:27:33 (159 MB/s) - ‘models/lid.176.bin’ saved [131266198/131266198]\n",
            "\n"
          ]
        }
      ]
    },
    {
      "cell_type": "code",
      "source": [
        "from pyspark.sql import SparkSession\n",
        "from pyspark.sql.functions import col, udf, lower, regexp_replace, count, when\n",
        "from pyspark.sql.window import Window\n",
        "import fasttext\n",
        "from pyspark.sql.types import StringType\n",
        "import os\n",
        "from pyspark.sql import functions as F\n",
        "\n",
        "def create_spark_session():\n",
        "    \"\"\"Crea una sesión de Spark.\"\"\"\n",
        "    return SparkSession.builder.appName(\"PreprocesamientoAmazonReviews\").getOrCreate()\n",
        "\n",
        "def load_data(file_path, spark):\n",
        "    \"\"\"Carga los datos desde Parquet.\"\"\"\n",
        "    print(f\"📥 Cargando datos desde {file_path}...\")\n",
        "    df = spark.read.parquet(file_path)\n",
        "    print(\"✅ Datos cargados correctamente.\")\n",
        "    return df\n",
        "\n",
        "def filter_english_reviews(df):\n",
        "    \"\"\"Filtra solo las reseñas en inglés si la columna 'language' existe.\"\"\"\n",
        "    if \"language\" in df.columns:\n",
        "        print(\"\\n🗑️ Eliminando reseñas en idiomas distintos al inglés...\")\n",
        "        # df = df.filter(col(\"language\") == \"en\")\n",
        "        # df = df.repartition(\"language\").filter(col(\"language\") == \"en\")\n",
        "        # df = df.select(\"language\", \"text\").filter(col(\"language\") == \"en\")\n",
        "        df = df.filter(col(\"language\") == \"en\").select(\"language\", \"label\",\"text\")\n",
        "\n",
        "        print(f\"✅ Total de registros después del filtro de idioma: {df.count()}\")\n",
        "    else:\n",
        "        print(\"\\n⚠️ Advertencia: La columna 'language' no existe en el DataFrame. No se aplica el filtro.\")\n",
        "\n",
        "    return df\n",
        "\n",
        "def remove_neutral_reviews(df):\n",
        "    \"\"\"Elimina reseñas de 3 estrellas para convertirlo en un problema binario.\"\"\"\n",
        "    print(\"\\n🗑️ Eliminando reseñas de 3 estrellas...\")\n",
        "    df = df.filter(col(\"rating\") != 3)\n",
        "\n",
        "    # Convertir ratings en clasificación binaria (0 = negativo, 1 = positivo)\n",
        "    df = df.withColumn(\"label\", when(col(\"rating\") <= 2, 0).otherwise(1))\n",
        "\n",
        "    print(f\"✅ Total de registros después de eliminación de neutrales: {df.count()}\")\n",
        "    return df\n",
        "\n",
        "def clean_text(df):\n",
        "    \"\"\"Limpia el texto de las reseñas eliminando caracteres especiales.\"\"\"\n",
        "    print(\"\\n🧹 Limpiando texto...\")\n",
        "    df = df.withColumn(\"text\", lower(col(\"text\")))  # Convertir a minúsculas\n",
        "    df = df.withColumn(\"text\", regexp_replace(col(\"text\"), \"[^a-zA-Z0-9\\s]\", \"\"))  # Eliminar caracteres especiales\n",
        "    df = df.withColumn(\"text\", regexp_replace(col(\"text\"), \"\\s+\", \" \"))  # Eliminar espacios extras\n",
        "    print(\"✅ Texto limpiado.\")\n",
        "    return df\n",
        "\n",
        "def remove_duplicates_and_empty(df):\n",
        "    \"\"\"Elimina duplicados y valores nulos.\"\"\"\n",
        "    print(\"\\n🗑️ Eliminando valores nulos y duplicados...\")\n",
        "    # df = df.filter((col(\"text\").isNotNull()) & (col(\"text\") != \"\"))  # Eliminar reseñas vacías\n",
        "    # df = df.dropDuplicates([\"text\"])  # Eliminar reseñas duplicadas\n",
        "    df = df.filter((col(\"text\").isNotNull()) & (col(\"text\") != \"\")).dropDuplicates([\"text\"])\n",
        "\n",
        "    # print(f\"✅ Total de registros después de limpieza: {df.count()}\")\n",
        "    return df\n",
        "\n",
        "def undersampling(df):\n",
        "    \"\"\"Balancea las clases reduciendo la cantidad de reseñas positivas (Undersampling).\"\"\"\n",
        "    print(\"\\n⚖️ Aplicando Undersampling para balancear clases...\")\n",
        "\n",
        "    # Contar cantidad de positivos y negativos\n",
        "    \"\"\"class_counts = df.groupBy(\"label\").count().collect()\n",
        "    positive_count = next(x[\"count\"] for x in class_counts if x[\"label\"] == 1)\n",
        "    negative_count = next(x[\"count\"] for x in class_counts if x[\"label\"] == 0)\n",
        "    min_class_count = min(positive_count, negative_count)  # Seleccionar la menor cantidad\n",
        "    \"\"\"\n",
        "    # ✅ Contar clases de forma más eficiente sin `collect()`\n",
        "    class_counts = df.groupBy(\"label\").count().toPandas().set_index(\"label\")[\"count\"]\n",
        "    positive_count, negative_count = class_counts.get(1, 0), class_counts.get(0, 0)\n",
        "    min_class_count = min(positive_count, negative_count)\n",
        "\n",
        "    print(f\"🔹 Positivos: {positive_count}, Negativos: {negative_count}\")\n",
        "    print(f\"✅ Reduciéndolos a: {min_class_count}\")\n",
        "\n",
        "    \"\"\"# Seleccionar aleatoriamente `min_class_count` reseñas de cada clase\n",
        "    df_positive = df.filter(col(\"label\") == 1).sample(False, min_class_count / positive_count, seed=42)\n",
        "    df_negative = df.filter(col(\"label\") == 0).sample(False, min_class_count / negative_count, seed=42)\n",
        "\n",
        "    df_balanced = df_positive.union(df_negative)\n",
        "    \"\"\"\n",
        "    # ✅ Filtrar y muestrear en una sola operación\n",
        "    df_balanced = (\n",
        "        df.withColumn(\"rand\", F.rand(seed=42))  # Agregar una columna aleatoria para el muestreo\n",
        "        .withColumn(\"rank\", F.row_number().over(Window.partitionBy(\"label\").orderBy(\"rand\")))\n",
        "        .filter(col(\"rank\") <= min_class_count)  # Filtrar para balancear\n",
        "        .drop(\"rand\", \"rank\")  # Limpiar columnas auxiliares\n",
        "    )\n",
        "\n",
        "    print(f\"✅ Total de registros después del balanceo: {df_balanced.count()}\")\n",
        "    return df_balanced\n",
        "\n",
        "def save_cleaned_data(df, output_path):\n",
        "    \"\"\"Guarda los datos procesados en Parquet.\"\"\"\n",
        "    print(f\"\\n💾 Guardando datos procesados en {output_path}...\")\n",
        "    df.write.mode(\"overwrite\").parquet(output_path)\n",
        "    print(\"✅ Datos guardados correctamente.\")\n",
        "\n",
        "# Función para cargar el modelo FastText en cada worker de Spark\n",
        "def get_fasttext_model():\n",
        "    \"\"\"Carga el modelo FastText en cada worker solo una vez.\"\"\"\n",
        "    return fasttext.load_model(\"models/lid.176.bin\")\n",
        "\n",
        "def detect_language(text):\n",
        "    \"\"\"Detecta el idioma usando FastText.\"\"\"\n",
        "    try:\n",
        "        if not text:\n",
        "            return \"unknown\"\n",
        "\n",
        "        # Cargar modelo FastText en cada worker\n",
        "        model = get_fasttext_model()\n",
        "\n",
        "        label = model.predict([text.replace(\"\\n\", \" \")])\n",
        "        return label[0][0][0].replace(\"__label__\", \"\")\n",
        "    except Exception:\n",
        "        return \"unknown\"\n",
        "\n",
        "def check_and_download_file(file_path, url):\n",
        "    \"\"\"\n",
        "    Verifica si el archivo existe en la ruta especificada.\n",
        "    Si no existe, lo descarga usando wget.\n",
        "\n",
        "    \"\"\"\n",
        "    if os.path.exists(file_path):\n",
        "        print(f\"✅ El archivo ya existe: {file_path}\")\n",
        "    else:\n",
        "        print(f\"⚠️ El archivo no existe. Descargando desde: {url}\")\n",
        "        os.system(f\"wget {url} -P {os.path.dirname(file_path)}\")\n",
        "        print(\"✅ Descarga completada.\")\n",
        "\n",
        "detect_language_udf = udf(detect_language, StringType())\n",
        "\n",
        "def add_language_column(df):\n",
        "    # Convertir la función en UDF para PySpark\n",
        "\n",
        "    \"\"\"Añade la columna 'language' con la detección de idioma.\"\"\"\n",
        "    print(\"\\n🌍 Detectando idioma de las reseñas...\")\n",
        "    df = df.withColumn(\"language\", detect_language_udf(col(\"text\")))\n",
        "    print(\"✅ Detección de idioma completada.\")\n",
        "    return df\n",
        "\n",
        "\n",
        "\n"
      ],
      "metadata": {
        "id": "XXr4JcIlIoMc"
      },
      "execution_count": null,
      "outputs": []
    },
    {
      "cell_type": "code",
      "source": [
        "  # 📌 Definir rutas\n",
        "  interim_data_path = \"data/interim/Software_interim.parquet\"\n",
        "  processed_data_path = \"data/processed/Software_processed.parquet\"\n",
        "  from pyspark import SparkContext\n",
        "\n",
        "  # Crear sesión de Spark\n",
        "  spark = create_spark_session()\n",
        "\n",
        "  # Cargar datos\n",
        "  df = load_data(interim_data_path, spark)\n",
        "  df.printSchema()\n",
        "  df = df.select(col(\"text\"), col(\"rating\"))\n",
        "  df = remove_neutral_reviews(df)\n",
        "  # # Aplicar detección de idioma\n",
        "  df.show(5, truncate=True)\n",
        "\n",
        "\n",
        "  file_path = \"data/models/lid.176.bin\"\n",
        "  url = \"https://dl.fbaipublicfiles.com/fasttext/supervised-models/lid.176.bin\"\n",
        "  check_and_download_file(file_path, url)\n",
        "  # df = spark.read.parquet(\"data/processed/Software_processed.parquet\")\n",
        "  res=detect_language(\"hola como estas soy de colomb\")\n",
        "  # Definir la función con carga de modelo en cada worker\n",
        "  def detect_language_udf():\n",
        "      model = None  # Variable para almacenar el modelo en caché\n",
        "\n",
        "      def detect_language(text):\n",
        "          nonlocal model\n",
        "          if model is None:\n",
        "              model = fasttext.load_model(file_path)  # ✅ Carga del modelo en cada worker\n",
        "          try:\n",
        "              if not text:\n",
        "                  return \"unknown\"\n",
        "              label = model.predict([text.replace(\"\\n\", \" \")])\n",
        "              return label[0][0][0].replace(\"__label__\", \"\")\n",
        "          except Exception:\n",
        "              return \"unknown\"\n",
        "\n",
        "      return detect_language\n",
        "\n",
        "  # Convertir la función en una UDF\n",
        "  detect_language = udf(detect_language_udf(), StringType())\n",
        "  # Aplicar la UDF al DataFrame de Spark\n",
        "  df = df.withColumn(\"language\", detect_language(col(\"text\")))\n",
        "  df.show(5, truncate=True)\n",
        "\n",
        "\n",
        "  # # 📌 Verificar los datos antes de seguir\n",
        "  # df.select(\"text\", \"language\").show(5, truncate=True)\n",
        "\n",
        "  # # Eliminar reseñas neutrales y convertir a clasificación binaria\n",
        "  df = filter_english_reviews(df)\n",
        "  # df = remove_neutral_reviews(df)\n",
        "  df.show(5, truncate=True)\n",
        "\n"
      ],
      "metadata": {
        "colab": {
          "base_uri": "https://localhost:8080/"
        },
        "id": "TNL4vADkTuYi",
        "outputId": "fa11b38d-84a0-4605-f3ca-c109e87cc81e"
      },
      "execution_count": null,
      "outputs": [
        {
          "output_type": "stream",
          "name": "stdout",
          "text": [
            "📥 Cargando datos desde data/interim/Software_interim.parquet...\n",
            "✅ Datos cargados correctamente.\n",
            "root\n",
            " |-- asin: string (nullable = true)\n",
            " |-- helpful_vote: long (nullable = true)\n",
            " |-- images: array (nullable = true)\n",
            " |    |-- element: struct (containsNull = true)\n",
            " |    |    |-- attachment_type: string (nullable = true)\n",
            " |    |    |-- large_image_url: string (nullable = true)\n",
            " |    |    |-- medium_image_url: string (nullable = true)\n",
            " |    |    |-- small_image_url: string (nullable = true)\n",
            " |-- parent_asin: string (nullable = true)\n",
            " |-- rating: double (nullable = true)\n",
            " |-- text: string (nullable = true)\n",
            " |-- timestamp: long (nullable = true)\n",
            " |-- title: string (nullable = true)\n",
            " |-- user_id: string (nullable = true)\n",
            " |-- verified_purchase: boolean (nullable = true)\n",
            "\n",
            "\n",
            "🗑️ Eliminando reseñas de 3 estrellas...\n",
            "✅ Total de registros después de eliminación de neutrales: 4460825\n",
            "+--------------------+------+-----+\n",
            "|                text|rating|label|\n",
            "+--------------------+------+-----+\n",
            "|Great product for...|   5.0|    1|\n",
            "|My 6 year old and...|   5.0|    1|\n",
            "|Loving ABC Mouse....|   5.0|    1|\n",
            "|I love this game,...|   5.0|    1|\n",
            "|Only on level 10 ...|   5.0|    1|\n",
            "+--------------------+------+-----+\n",
            "only showing top 5 rows\n",
            "\n",
            "⚠️ El archivo no existe. Descargando desde: https://dl.fbaipublicfiles.com/fasttext/supervised-models/lid.176.bin\n",
            "✅ Descarga completada.\n",
            "+--------------------+------+-----+--------+\n",
            "|                text|rating|label|language|\n",
            "+--------------------+------+-----+--------+\n",
            "|Great product for...|   5.0|    1|      en|\n",
            "|My 6 year old and...|   5.0|    1|      en|\n",
            "|Loving ABC Mouse....|   5.0|    1|      en|\n",
            "|I love this game,...|   5.0|    1|      en|\n",
            "|Only on level 10 ...|   5.0|    1|      en|\n",
            "+--------------------+------+-----+--------+\n",
            "only showing top 5 rows\n",
            "\n",
            "\n",
            "🗑️ Eliminando reseñas en idiomas distintos al inglés...\n",
            "✅ Total de registros después del filtro de idioma: 4345746\n",
            "+--------+-----+--------------------+\n",
            "|language|label|                text|\n",
            "+--------+-----+--------------------+\n",
            "|      en|    1|Great product for...|\n",
            "|      en|    1|My 6 year old and...|\n",
            "|      en|    1|Loving ABC Mouse....|\n",
            "|      en|    1|I love this game,...|\n",
            "|      en|    1|Only on level 10 ...|\n",
            "+--------+-----+--------------------+\n",
            "only showing top 5 rows\n",
            "\n"
          ]
        }
      ]
    },
    {
      "cell_type": "code",
      "source": [
        "  # # # Preprocesar datos\n",
        "  df = clean_text(df)\n",
        "  df = remove_duplicates_and_empty(df)\n",
        "\n",
        "  # # Guardar datos procesados\n",
        "  save_cleaned_data(df, processed_data_path)\n",
        "\n",
        "  print(\"\\n🎯 Proceso de preprocesamiento completado.\")"
      ],
      "metadata": {
        "colab": {
          "base_uri": "https://localhost:8080/"
        },
        "id": "2pWKKJU3LiYF",
        "outputId": "b8a1c0d6-d1d3-42dc-8b41-c16c6f804e66"
      },
      "execution_count": null,
      "outputs": [
        {
          "output_type": "stream",
          "name": "stdout",
          "text": [
            "\n",
            "🧹 Limpiando texto...\n",
            "✅ Texto limpiado.\n",
            "\n",
            "🗑️ Eliminando valores nulos y duplicados...\n",
            "\n",
            "💾 Guardando datos procesados en data/processed/Software_processed.parquet...\n",
            "✅ Datos guardados correctamente.\n",
            "\n",
            "🎯 Proceso de preprocesamiento completado.\n"
          ]
        }
      ]
    },
    {
      "cell_type": "code",
      "source": [
        "  # # Aplicar Undersampling\n",
        "  df = undersampling(df)\n",
        "\n",
        "  # # Guardar datos procesados\n",
        "  save_cleaned_data(df, processed_data_path)\n",
        "\n",
        "  print(\"\\n🎯 Proceso de preprocesamiento completado.\")"
      ],
      "metadata": {
        "colab": {
          "base_uri": "https://localhost:8080/"
        },
        "id": "ilzZXcX8U0_F",
        "outputId": "0d946af0-11ed-4aac-fa4d-6c4f9b35c93d"
      },
      "execution_count": null,
      "outputs": [
        {
          "output_type": "stream",
          "name": "stdout",
          "text": [
            "\n",
            "⚖️ Aplicando Undersampling para balancear clases...\n",
            "🔹 Positivos: 2748554, Negativos: 803325\n",
            "✅ Reduciéndolos a: 803325\n",
            "✅ Total de registros después del balanceo: 1606650\n",
            "\n",
            "💾 Guardando datos procesados en data/processed/Software_processed.parquet...\n",
            "✅ Datos guardados correctamente.\n",
            "\n",
            "🎯 Proceso de preprocesamiento completado.\n"
          ]
        }
      ]
    },
    {
      "cell_type": "markdown",
      "source": [
        "Entrenamiento"
      ],
      "metadata": {
        "id": "0W3n82G9RXJz"
      }
    },
    {
      "cell_type": "code",
      "source": [
        "import os\n",
        "\n",
        "# Definir la estructura del proyecto\n",
        "directories = [\n",
        "\n",
        "    \"notebooks\",\n",
        "    \"src/data\",\n",
        "    \"src/models\",\n",
        "    \"src/deployment\",\n",
        "    \"src/monitoring\",\n",
        "    \"src/utils\",\n",
        "    \"tests\",\n",
        "    \"configs\",\n",
        "]\n",
        "\n",
        "# Crear los directorios\n",
        "for directory in directories:\n",
        "      os.makedirs(directory, exist_ok=True)\n"
      ],
      "metadata": {
        "id": "8z2Vb0APPwLE"
      },
      "execution_count": null,
      "outputs": []
    },
    {
      "cell_type": "code",
      "execution_count": null,
      "metadata": {
        "id": "91ae66d7",
        "colab": {
          "base_uri": "https://localhost:8080/"
        },
        "outputId": "9c9cdbab-fdd5-4313-b3f1-2cd7acb24e91"
      },
      "outputs": [
        {
          "output_type": "stream",
          "name": "stdout",
          "text": [
            "Requirement already satisfied: mlflow==2.1.0 in /usr/local/lib/python3.11/dist-packages (2.1.0)\n",
            "Requirement already satisfied: requests in /usr/local/lib/python3.11/dist-packages (2.32.3)\n",
            "Requirement already satisfied: click<9,>=7.0 in /usr/local/lib/python3.11/dist-packages (from mlflow==2.1.0) (8.1.8)\n",
            "Requirement already satisfied: cloudpickle<3 in /usr/local/lib/python3.11/dist-packages (from mlflow==2.1.0) (2.2.1)\n",
            "Requirement already satisfied: databricks-cli<1,>=0.8.7 in /usr/local/lib/python3.11/dist-packages (from mlflow==2.1.0) (0.18.0)\n",
            "Requirement already satisfied: entrypoints<1 in /usr/local/lib/python3.11/dist-packages (from mlflow==2.1.0) (0.4)\n",
            "Requirement already satisfied: gitpython<4,>=2.1.0 in /usr/local/lib/python3.11/dist-packages (from mlflow==2.1.0) (3.1.44)\n",
            "Requirement already satisfied: pyyaml<7,>=5.1 in /usr/local/lib/python3.11/dist-packages (from mlflow==2.1.0) (6.0.2)\n",
            "Requirement already satisfied: protobuf<5,>=3.12.0 in /usr/local/lib/python3.11/dist-packages (from mlflow==2.1.0) (4.25.6)\n",
            "Requirement already satisfied: pytz<2023 in /usr/local/lib/python3.11/dist-packages (from mlflow==2.1.0) (2022.7.1)\n",
            "Requirement already satisfied: packaging<23 in /usr/local/lib/python3.11/dist-packages (from mlflow==2.1.0) (22.0)\n",
            "Requirement already satisfied: importlib-metadata!=4.7.0,<6,>=3.7.0 in /usr/local/lib/python3.11/dist-packages (from mlflow==2.1.0) (5.2.0)\n",
            "Requirement already satisfied: sqlparse<1,>=0.4.0 in /usr/local/lib/python3.11/dist-packages (from mlflow==2.1.0) (0.5.3)\n",
            "Requirement already satisfied: alembic<2 in /usr/local/lib/python3.11/dist-packages (from mlflow==2.1.0) (1.15.1)\n",
            "Requirement already satisfied: docker<7,>=4.0.0 in /usr/local/lib/python3.11/dist-packages (from mlflow==2.1.0) (6.1.3)\n",
            "Requirement already satisfied: Flask<3 in /usr/local/lib/python3.11/dist-packages (from mlflow==2.1.0) (2.3.3)\n",
            "Requirement already satisfied: numpy<2 in /usr/local/lib/python3.11/dist-packages (from mlflow==2.1.0) (1.26.4)\n",
            "Requirement already satisfied: scipy<2 in /usr/local/lib/python3.11/dist-packages (from mlflow==2.1.0) (1.14.1)\n",
            "Requirement already satisfied: pandas<2 in /usr/local/lib/python3.11/dist-packages (from mlflow==2.1.0) (1.5.3)\n",
            "Requirement already satisfied: querystring-parser<2 in /usr/local/lib/python3.11/dist-packages (from mlflow==2.1.0) (1.2.4)\n",
            "Requirement already satisfied: sqlalchemy<2,>=1.4.0 in /usr/local/lib/python3.11/dist-packages (from mlflow==2.1.0) (1.4.54)\n",
            "Requirement already satisfied: scikit-learn<2 in /usr/local/lib/python3.11/dist-packages (from mlflow==2.1.0) (1.6.1)\n",
            "Requirement already satisfied: pyarrow<11,>=4.0.0 in /usr/local/lib/python3.11/dist-packages (from mlflow==2.1.0) (10.0.1)\n",
            "Requirement already satisfied: shap<1,>=0.40 in /usr/local/lib/python3.11/dist-packages (from mlflow==2.1.0) (0.46.0)\n",
            "Requirement already satisfied: markdown<4,>=3.3 in /usr/local/lib/python3.11/dist-packages (from mlflow==2.1.0) (3.7)\n",
            "Requirement already satisfied: matplotlib<4 in /usr/local/lib/python3.11/dist-packages (from mlflow==2.1.0) (3.10.0)\n",
            "Requirement already satisfied: gunicorn<21 in /usr/local/lib/python3.11/dist-packages (from mlflow==2.1.0) (20.1.0)\n",
            "Requirement already satisfied: Jinja2<4,>=2.11 in /usr/local/lib/python3.11/dist-packages (from mlflow==2.1.0) (3.1.6)\n",
            "Requirement already satisfied: charset-normalizer<4,>=2 in /usr/local/lib/python3.11/dist-packages (from requests) (3.4.1)\n",
            "Requirement already satisfied: idna<4,>=2.5 in /usr/local/lib/python3.11/dist-packages (from requests) (3.10)\n",
            "Requirement already satisfied: urllib3<3,>=1.21.1 in /usr/local/lib/python3.11/dist-packages (from requests) (2.3.0)\n",
            "Requirement already satisfied: certifi>=2017.4.17 in /usr/local/lib/python3.11/dist-packages (from requests) (2025.1.31)\n",
            "Requirement already satisfied: Mako in /usr/local/lib/python3.11/dist-packages (from alembic<2->mlflow==2.1.0) (1.3.9)\n",
            "Requirement already satisfied: typing-extensions>=4.12 in /usr/local/lib/python3.11/dist-packages (from alembic<2->mlflow==2.1.0) (4.12.2)\n",
            "Requirement already satisfied: pyjwt>=1.7.0 in /usr/local/lib/python3.11/dist-packages (from databricks-cli<1,>=0.8.7->mlflow==2.1.0) (2.10.1)\n",
            "Requirement already satisfied: oauthlib>=3.1.0 in /usr/local/lib/python3.11/dist-packages (from databricks-cli<1,>=0.8.7->mlflow==2.1.0) (3.2.2)\n",
            "Requirement already satisfied: tabulate>=0.7.7 in /usr/local/lib/python3.11/dist-packages (from databricks-cli<1,>=0.8.7->mlflow==2.1.0) (0.9.0)\n",
            "Requirement already satisfied: six>=1.10.0 in /usr/local/lib/python3.11/dist-packages (from databricks-cli<1,>=0.8.7->mlflow==2.1.0) (1.17.0)\n",
            "Requirement already satisfied: websocket-client>=0.32.0 in /usr/local/lib/python3.11/dist-packages (from docker<7,>=4.0.0->mlflow==2.1.0) (1.8.0)\n",
            "Requirement already satisfied: Werkzeug>=2.3.7 in /usr/local/lib/python3.11/dist-packages (from Flask<3->mlflow==2.1.0) (3.1.3)\n",
            "Requirement already satisfied: itsdangerous>=2.1.2 in /usr/local/lib/python3.11/dist-packages (from Flask<3->mlflow==2.1.0) (2.2.0)\n",
            "Requirement already satisfied: blinker>=1.6.2 in /usr/local/lib/python3.11/dist-packages (from Flask<3->mlflow==2.1.0) (1.9.0)\n",
            "Requirement already satisfied: gitdb<5,>=4.0.1 in /usr/local/lib/python3.11/dist-packages (from gitpython<4,>=2.1.0->mlflow==2.1.0) (4.0.12)\n",
            "Requirement already satisfied: setuptools>=3.0 in /usr/local/lib/python3.11/dist-packages (from gunicorn<21->mlflow==2.1.0) (75.1.0)\n",
            "Requirement already satisfied: zipp>=0.5 in /usr/local/lib/python3.11/dist-packages (from importlib-metadata!=4.7.0,<6,>=3.7.0->mlflow==2.1.0) (3.21.0)\n",
            "Requirement already satisfied: MarkupSafe>=2.0 in /usr/local/lib/python3.11/dist-packages (from Jinja2<4,>=2.11->mlflow==2.1.0) (3.0.2)\n",
            "Requirement already satisfied: contourpy>=1.0.1 in /usr/local/lib/python3.11/dist-packages (from matplotlib<4->mlflow==2.1.0) (1.3.1)\n",
            "Requirement already satisfied: cycler>=0.10 in /usr/local/lib/python3.11/dist-packages (from matplotlib<4->mlflow==2.1.0) (0.12.1)\n",
            "Requirement already satisfied: fonttools>=4.22.0 in /usr/local/lib/python3.11/dist-packages (from matplotlib<4->mlflow==2.1.0) (4.56.0)\n",
            "Requirement already satisfied: kiwisolver>=1.3.1 in /usr/local/lib/python3.11/dist-packages (from matplotlib<4->mlflow==2.1.0) (1.4.8)\n",
            "Requirement already satisfied: pillow>=8 in /usr/local/lib/python3.11/dist-packages (from matplotlib<4->mlflow==2.1.0) (11.1.0)\n",
            "Requirement already satisfied: pyparsing>=2.3.1 in /usr/local/lib/python3.11/dist-packages (from matplotlib<4->mlflow==2.1.0) (3.2.1)\n",
            "Requirement already satisfied: python-dateutil>=2.7 in /usr/local/lib/python3.11/dist-packages (from matplotlib<4->mlflow==2.1.0) (2.8.2)\n",
            "Requirement already satisfied: joblib>=1.2.0 in /usr/local/lib/python3.11/dist-packages (from scikit-learn<2->mlflow==2.1.0) (1.4.2)\n",
            "Requirement already satisfied: threadpoolctl>=3.1.0 in /usr/local/lib/python3.11/dist-packages (from scikit-learn<2->mlflow==2.1.0) (3.6.0)\n",
            "Requirement already satisfied: tqdm>=4.27.0 in /usr/local/lib/python3.11/dist-packages (from shap<1,>=0.40->mlflow==2.1.0) (4.67.1)\n",
            "Requirement already satisfied: slicer==0.0.8 in /usr/local/lib/python3.11/dist-packages (from shap<1,>=0.40->mlflow==2.1.0) (0.0.8)\n",
            "Requirement already satisfied: numba in /usr/local/lib/python3.11/dist-packages (from shap<1,>=0.40->mlflow==2.1.0) (0.60.0)\n",
            "Requirement already satisfied: greenlet!=0.4.17 in /usr/local/lib/python3.11/dist-packages (from sqlalchemy<2,>=1.4.0->mlflow==2.1.0) (3.1.1)\n",
            "Requirement already satisfied: smmap<6,>=3.0.1 in /usr/local/lib/python3.11/dist-packages (from gitdb<5,>=4.0.1->gitpython<4,>=2.1.0->mlflow==2.1.0) (5.0.2)\n",
            "Requirement already satisfied: llvmlite<0.44,>=0.43.0dev0 in /usr/local/lib/python3.11/dist-packages (from numba->shap<1,>=0.40->mlflow==2.1.0) (0.43.0)\n"
          ]
        }
      ],
      "source": [
        "!pip install mlflow==2.1.0 requests"
      ]
    },
    {
      "cell_type": "code",
      "execution_count": null,
      "metadata": {
        "id": "6419d6ef"
      },
      "outputs": [],
      "source": [
        "import mlflow\n",
        "import os\n",
        "import pandas as pd\n",
        "from IPython.display import display"
      ]
    },
    {
      "cell_type": "markdown",
      "metadata": {
        "id": "fb0fee0c"
      },
      "source": [
        "Adicionalmente, utilizaremos un servidor de `mlflow`:"
      ]
    },
    {
      "cell_type": "code",
      "execution_count": null,
      "metadata": {
        "id": "9d8af5ff"
      },
      "outputs": [],
      "source": [
        "command = \"\"\"\n",
        "mlflow server \\\n",
        "        --backend-store-uri sqlite:///tracking.db \\\n",
        "        --default-artifact-root file:mlruns \\\n",
        "        -p 5000 &\n",
        "\"\"\"\n",
        "get_ipython().system_raw(command) #**TODO**: 27869"
      ]
    },
    {
      "cell_type": "markdown",
      "metadata": {
        "id": "65b101c3"
      },
      "source": [
        "Utilizaremos `ngrok` para acceder al tablero de `mlflow`:"
      ]
    },
    {
      "cell_type": "code",
      "execution_count": null,
      "metadata": {
        "id": "cafa2dbc",
        "colab": {
          "base_uri": "https://localhost:8080/"
        },
        "outputId": "e72dffcd-8a67-4a34-8840-ee1a84be8a89"
      },
      "outputs": [
        {
          "output_type": "stream",
          "name": "stdout",
          "text": [
            "Requirement already satisfied: pyngrok in /usr/local/lib/python3.11/dist-packages (7.2.3)\n",
            "Requirement already satisfied: PyYAML>=5.1 in /usr/local/lib/python3.11/dist-packages (from pyngrok) (6.0.2)\n"
          ]
        }
      ],
      "source": [
        "!pip install pyngrok"
      ]
    },
    {
      "cell_type": "markdown",
      "metadata": {
        "id": "bf1b4c84"
      },
      "source": [
        "Ahora debe agregar su token de `ngrok`:"
      ]
    },
    {
      "cell_type": "code",
      "execution_count": null,
      "metadata": {
        "id": "0e0f6138"
      },
      "outputs": [],
      "source": [
        "token = \"2R2O3rzaAG13L2kjEQv7WCH067c_3htAdvYvLM7qiyiCJDXD6\" # Agregue el token dentro de las comillas\n",
        "os.environ[\"NGROK_TOKEN\"] = token"
      ]
    },
    {
      "cell_type": "markdown",
      "metadata": {
        "id": "62a74048"
      },
      "source": [
        "Nos autenticamos en ngrok:"
      ]
    },
    {
      "cell_type": "code",
      "execution_count": null,
      "metadata": {
        "id": "075cced6",
        "colab": {
          "base_uri": "https://localhost:8080/"
        },
        "outputId": "b686fb51-b9b0-4e9c-9d88-ee48b032ab2c"
      },
      "outputs": [
        {
          "output_type": "stream",
          "name": "stdout",
          "text": [
            "Authtoken saved to configuration file: /root/.config/ngrok/ngrok.yml\n"
          ]
        }
      ],
      "source": [
        "!ngrok authtoken $NGROK_TOKEN"
      ]
    },
    {
      "cell_type": "code",
      "execution_count": null,
      "metadata": {
        "id": "61148bc9",
        "colab": {
          "base_uri": "https://localhost:8080/"
        },
        "outputId": "97fcf524-8001-4e6b-96a3-5f456df23f69"
      },
      "outputs": [
        {
          "output_type": "execute_result",
          "data": {
            "text/plain": [
              "<NgrokTunnel: \"https://f5de-35-227-84-85.ngrok-free.app\" -> \"http://localhost:5000\">"
            ]
          },
          "metadata": {},
          "execution_count": 41
        }
      ],
      "source": [
        "from pyngrok import ngrok\n",
        "ngrok.connect(5000, \"http\")"
      ]
    },
    {
      "cell_type": "code",
      "execution_count": null,
      "metadata": {
        "id": "abba2577"
      },
      "outputs": [],
      "source": [
        "mlflow.set_tracking_uri(\"https://5c9e-35-227-84-85.ngrok-free.app\")"
      ]
    },
    {
      "cell_type": "code",
      "execution_count": null,
      "metadata": {
        "id": "1319c8b5"
      },
      "outputs": [],
      "source": [
        "exp_id = mlflow.create_experiment(name=\"airline_delay\", artifact_location=\"mlruns/\")"
      ]
    },
    {
      "source": [
        "import tensorflow as tf\n",
        "import os\n",
        "import mlflow\n",
        "import mlflow.tensorflow\n",
        "import pandas as pd\n",
        "from transformers import BertTokenizer, TFBertForSequenceClassification\n",
        "from tensorflow.keras.optimizers.schedules import PolynomialDecay\n",
        "import pyarrow.parquet as pq\n",
        "from sklearn.model_selection import train_test_split\n",
        "\n",
        "# 📌 Configuración\n",
        "DATA_PATH = \"data/processed/Software_processed.parquet\"\n",
        "SAVE_PATH = \"data/processed/splits/\"\n",
        "SAVE = True  # Bandera para guardar o cargar los datos\n",
        "BATCH_SIZE = 32\n",
        "EPOCHS = 3\n",
        "MLFLOW_TRACKING_URI = \"http://localhost:5000\"  # Ajustar si se usa un servidor remoto\n",
        "\n",
        "# 📌 Configurar MLflow\n",
        "mlflow.set_tracking_uri(MLFLOW_TRACKING_URI)\n",
        "mlflow.set_experiment(\"bert_finetuning\")\n",
        "\n",
        "# 📌 Cargar el tokenizador de BERT\n",
        "tokenizer = BertTokenizer.from_pretrained(\"bert-base-uncased\")\n",
        "\n",
        "def tokenize_data(texts, labels, max_length=128):\n",
        "    tokens = tokenizer(texts.tolist(), padding=True, truncation=True, max_length=max_length, return_tensors=\"tf\")\n",
        "    return tokens, tf.convert_to_tensor(labels, dtype=tf.int32)\n",
        "\n",
        "# 📌 Verificar si los datasets ya existen\n",
        "if not os.path.exists(SAVE_PATH):\n",
        "    print(\"📂 Creando conjuntos de datos de entrenamiento, validación y prueba...\")\n",
        "    os.makedirs(SAVE_PATH, exist_ok=True)\n",
        "\n",
        "    df = pd.read_parquet(DATA_PATH)\n",
        "    train_texts, temp_texts, train_labels, temp_labels = train_test_split(df[\"text\"], df[\"label\"], test_size=0.3, random_state=42)\n",
        "    val_texts, test_texts, val_labels, test_labels = train_test_split(temp_texts, temp_labels, test_size=0.5, random_state=42)\n",
        "\n",
        "    print(\"✅ Datos guardados en\", SAVE_PATH)\n",
        "else:\n",
        "    print(\"📂 Cargando datasets preprocesados...\")\n"
      ],
      "cell_type": "code",
      "metadata": {
        "colab": {
          "base_uri": "https://localhost:8080/"
        },
        "id": "475R-8F2eNek",
        "outputId": "0457b991-a653-41d4-c7cd-52664aa43c6d"
      },
      "execution_count": null,
      "outputs": [
        {
          "output_type": "stream",
          "name": "stdout",
          "text": [
            "📂 Creando conjuntos de datos de entrenamiento, validación y prueba...\n",
            "✅ Datos guardados en data/processed/splits/\n"
          ]
        }
      ]
    },
    {
      "cell_type": "code",
      "source": [
        "df.info()\n",
        "df.to_csv(os.path.join(SAVE_PATH, \"Software_processed.csv\"), index=False)\n"
      ],
      "metadata": {
        "colab": {
          "base_uri": "https://localhost:8080/"
        },
        "id": "LrUXLLXuMVba",
        "outputId": "49f0e91f-6e89-4eb1-a8e8-37eb7de2854e"
      },
      "execution_count": null,
      "outputs": [
        {
          "output_type": "stream",
          "name": "stdout",
          "text": [
            "<class 'pandas.core.frame.DataFrame'>\n",
            "RangeIndex: 1606650 entries, 0 to 1606649\n",
            "Data columns (total 3 columns):\n",
            " #   Column    Non-Null Count    Dtype \n",
            "---  ------    --------------    ----- \n",
            " 0   language  1606650 non-null  object\n",
            " 1   label     1606650 non-null  int32 \n",
            " 2   text      1606650 non-null  object\n",
            "dtypes: int32(1), object(2)\n",
            "memory usage: 30.6+ MB\n"
          ]
        }
      ]
    },
    {
      "cell_type": "code",
      "source": [
        "import pandas as pd\n",
        "import numpy as np\n",
        "# import flair\n",
        "# from flair.data import Sentence\n",
        "import re\n",
        "import nltk\n",
        "from nltk.corpus import stopwords\n",
        "from wordcloud import WordCloud\n",
        "import matplotlib.pyplot as plt\n",
        "import random as rn\n",
        "import seaborn as sns\n",
        "from plotly import graph_objs as go\n",
        "import plotly.express as px\n",
        "import plotly.figure_factory as ff\n",
        "from collections import Counter\n",
        "from PIL import Image\n",
        "\n",
        "from imblearn.over_sampling import RandomOverSampler\n",
        "from sklearn.model_selection import train_test_split\n",
        "from sklearn.feature_extraction.text import CountVectorizer\n",
        "from sklearn.feature_extraction.text import TfidfTransformer\n",
        "\n",
        "pd.options.display.max_rows = None\n",
        "seed=40"
      ],
      "metadata": {
        "id": "y_Dahm1OQ5Cp"
      },
      "execution_count": null,
      "outputs": []
    },
    {
      "cell_type": "code",
      "source": [
        "df.head()\n"
      ],
      "metadata": {
        "colab": {
          "base_uri": "https://localhost:8080/",
          "height": 206
        },
        "id": "koReFKGaQ8i_",
        "outputId": "db32ff52-1b88-45cf-a6ee-4d66d17cc229"
      },
      "execution_count": null,
      "outputs": [
        {
          "output_type": "execute_result",
          "data": {
            "text/plain": [
              "  language  label                                               text\n",
              "0       en      1  no broken crayons with this game fun and easy ...\n",
              "1       en      1  this game is a lot of fun it is one of the bes...\n",
              "2       en      1  this games is awesome i wish there were easier...\n",
              "3       en      1      enjoy the selection of music and good quality\n",
              "4       en      1  very satisfied my s4 did not come with a light..."
            ],
            "text/html": [
              "\n",
              "  <div id=\"df-58065d36-eecc-47d1-827e-4b23e3e61a2f\" class=\"colab-df-container\">\n",
              "    <div>\n",
              "<style scoped>\n",
              "    .dataframe tbody tr th:only-of-type {\n",
              "        vertical-align: middle;\n",
              "    }\n",
              "\n",
              "    .dataframe tbody tr th {\n",
              "        vertical-align: top;\n",
              "    }\n",
              "\n",
              "    .dataframe thead th {\n",
              "        text-align: right;\n",
              "    }\n",
              "</style>\n",
              "<table border=\"1\" class=\"dataframe\">\n",
              "  <thead>\n",
              "    <tr style=\"text-align: right;\">\n",
              "      <th></th>\n",
              "      <th>language</th>\n",
              "      <th>label</th>\n",
              "      <th>text</th>\n",
              "    </tr>\n",
              "  </thead>\n",
              "  <tbody>\n",
              "    <tr>\n",
              "      <th>0</th>\n",
              "      <td>en</td>\n",
              "      <td>1</td>\n",
              "      <td>no broken crayons with this game fun and easy ...</td>\n",
              "    </tr>\n",
              "    <tr>\n",
              "      <th>1</th>\n",
              "      <td>en</td>\n",
              "      <td>1</td>\n",
              "      <td>this game is a lot of fun it is one of the bes...</td>\n",
              "    </tr>\n",
              "    <tr>\n",
              "      <th>2</th>\n",
              "      <td>en</td>\n",
              "      <td>1</td>\n",
              "      <td>this games is awesome i wish there were easier...</td>\n",
              "    </tr>\n",
              "    <tr>\n",
              "      <th>3</th>\n",
              "      <td>en</td>\n",
              "      <td>1</td>\n",
              "      <td>enjoy the selection of music and good quality</td>\n",
              "    </tr>\n",
              "    <tr>\n",
              "      <th>4</th>\n",
              "      <td>en</td>\n",
              "      <td>1</td>\n",
              "      <td>very satisfied my s4 did not come with a light...</td>\n",
              "    </tr>\n",
              "  </tbody>\n",
              "</table>\n",
              "</div>\n",
              "    <div class=\"colab-df-buttons\">\n",
              "\n",
              "  <div class=\"colab-df-container\">\n",
              "    <button class=\"colab-df-convert\" onclick=\"convertToInteractive('df-58065d36-eecc-47d1-827e-4b23e3e61a2f')\"\n",
              "            title=\"Convert this dataframe to an interactive table.\"\n",
              "            style=\"display:none;\">\n",
              "\n",
              "  <svg xmlns=\"http://www.w3.org/2000/svg\" height=\"24px\" viewBox=\"0 -960 960 960\">\n",
              "    <path d=\"M120-120v-720h720v720H120Zm60-500h600v-160H180v160Zm220 220h160v-160H400v160Zm0 220h160v-160H400v160ZM180-400h160v-160H180v160Zm440 0h160v-160H620v160ZM180-180h160v-160H180v160Zm440 0h160v-160H620v160Z\"/>\n",
              "  </svg>\n",
              "    </button>\n",
              "\n",
              "  <style>\n",
              "    .colab-df-container {\n",
              "      display:flex;\n",
              "      gap: 12px;\n",
              "    }\n",
              "\n",
              "    .colab-df-convert {\n",
              "      background-color: #E8F0FE;\n",
              "      border: none;\n",
              "      border-radius: 50%;\n",
              "      cursor: pointer;\n",
              "      display: none;\n",
              "      fill: #1967D2;\n",
              "      height: 32px;\n",
              "      padding: 0 0 0 0;\n",
              "      width: 32px;\n",
              "    }\n",
              "\n",
              "    .colab-df-convert:hover {\n",
              "      background-color: #E2EBFA;\n",
              "      box-shadow: 0px 1px 2px rgba(60, 64, 67, 0.3), 0px 1px 3px 1px rgba(60, 64, 67, 0.15);\n",
              "      fill: #174EA6;\n",
              "    }\n",
              "\n",
              "    .colab-df-buttons div {\n",
              "      margin-bottom: 4px;\n",
              "    }\n",
              "\n",
              "    [theme=dark] .colab-df-convert {\n",
              "      background-color: #3B4455;\n",
              "      fill: #D2E3FC;\n",
              "    }\n",
              "\n",
              "    [theme=dark] .colab-df-convert:hover {\n",
              "      background-color: #434B5C;\n",
              "      box-shadow: 0px 1px 3px 1px rgba(0, 0, 0, 0.15);\n",
              "      filter: drop-shadow(0px 1px 2px rgba(0, 0, 0, 0.3));\n",
              "      fill: #FFFFFF;\n",
              "    }\n",
              "  </style>\n",
              "\n",
              "    <script>\n",
              "      const buttonEl =\n",
              "        document.querySelector('#df-58065d36-eecc-47d1-827e-4b23e3e61a2f button.colab-df-convert');\n",
              "      buttonEl.style.display =\n",
              "        google.colab.kernel.accessAllowed ? 'block' : 'none';\n",
              "\n",
              "      async function convertToInteractive(key) {\n",
              "        const element = document.querySelector('#df-58065d36-eecc-47d1-827e-4b23e3e61a2f');\n",
              "        const dataTable =\n",
              "          await google.colab.kernel.invokeFunction('convertToInteractive',\n",
              "                                                    [key], {});\n",
              "        if (!dataTable) return;\n",
              "\n",
              "        const docLinkHtml = 'Like what you see? Visit the ' +\n",
              "          '<a target=\"_blank\" href=https://colab.research.google.com/notebooks/data_table.ipynb>data table notebook</a>'\n",
              "          + ' to learn more about interactive tables.';\n",
              "        element.innerHTML = '';\n",
              "        dataTable['output_type'] = 'display_data';\n",
              "        await google.colab.output.renderOutput(dataTable, element);\n",
              "        const docLink = document.createElement('div');\n",
              "        docLink.innerHTML = docLinkHtml;\n",
              "        element.appendChild(docLink);\n",
              "      }\n",
              "    </script>\n",
              "  </div>\n",
              "\n",
              "\n",
              "<div id=\"df-3921cad6-4247-43a9-9fb0-7c6c3b8a2e75\">\n",
              "  <button class=\"colab-df-quickchart\" onclick=\"quickchart('df-3921cad6-4247-43a9-9fb0-7c6c3b8a2e75')\"\n",
              "            title=\"Suggest charts\"\n",
              "            style=\"display:none;\">\n",
              "\n",
              "<svg xmlns=\"http://www.w3.org/2000/svg\" height=\"24px\"viewBox=\"0 0 24 24\"\n",
              "     width=\"24px\">\n",
              "    <g>\n",
              "        <path d=\"M19 3H5c-1.1 0-2 .9-2 2v14c0 1.1.9 2 2 2h14c1.1 0 2-.9 2-2V5c0-1.1-.9-2-2-2zM9 17H7v-7h2v7zm4 0h-2V7h2v10zm4 0h-2v-4h2v4z\"/>\n",
              "    </g>\n",
              "</svg>\n",
              "  </button>\n",
              "\n",
              "<style>\n",
              "  .colab-df-quickchart {\n",
              "      --bg-color: #E8F0FE;\n",
              "      --fill-color: #1967D2;\n",
              "      --hover-bg-color: #E2EBFA;\n",
              "      --hover-fill-color: #174EA6;\n",
              "      --disabled-fill-color: #AAA;\n",
              "      --disabled-bg-color: #DDD;\n",
              "  }\n",
              "\n",
              "  [theme=dark] .colab-df-quickchart {\n",
              "      --bg-color: #3B4455;\n",
              "      --fill-color: #D2E3FC;\n",
              "      --hover-bg-color: #434B5C;\n",
              "      --hover-fill-color: #FFFFFF;\n",
              "      --disabled-bg-color: #3B4455;\n",
              "      --disabled-fill-color: #666;\n",
              "  }\n",
              "\n",
              "  .colab-df-quickchart {\n",
              "    background-color: var(--bg-color);\n",
              "    border: none;\n",
              "    border-radius: 50%;\n",
              "    cursor: pointer;\n",
              "    display: none;\n",
              "    fill: var(--fill-color);\n",
              "    height: 32px;\n",
              "    padding: 0;\n",
              "    width: 32px;\n",
              "  }\n",
              "\n",
              "  .colab-df-quickchart:hover {\n",
              "    background-color: var(--hover-bg-color);\n",
              "    box-shadow: 0 1px 2px rgba(60, 64, 67, 0.3), 0 1px 3px 1px rgba(60, 64, 67, 0.15);\n",
              "    fill: var(--button-hover-fill-color);\n",
              "  }\n",
              "\n",
              "  .colab-df-quickchart-complete:disabled,\n",
              "  .colab-df-quickchart-complete:disabled:hover {\n",
              "    background-color: var(--disabled-bg-color);\n",
              "    fill: var(--disabled-fill-color);\n",
              "    box-shadow: none;\n",
              "  }\n",
              "\n",
              "  .colab-df-spinner {\n",
              "    border: 2px solid var(--fill-color);\n",
              "    border-color: transparent;\n",
              "    border-bottom-color: var(--fill-color);\n",
              "    animation:\n",
              "      spin 1s steps(1) infinite;\n",
              "  }\n",
              "\n",
              "  @keyframes spin {\n",
              "    0% {\n",
              "      border-color: transparent;\n",
              "      border-bottom-color: var(--fill-color);\n",
              "      border-left-color: var(--fill-color);\n",
              "    }\n",
              "    20% {\n",
              "      border-color: transparent;\n",
              "      border-left-color: var(--fill-color);\n",
              "      border-top-color: var(--fill-color);\n",
              "    }\n",
              "    30% {\n",
              "      border-color: transparent;\n",
              "      border-left-color: var(--fill-color);\n",
              "      border-top-color: var(--fill-color);\n",
              "      border-right-color: var(--fill-color);\n",
              "    }\n",
              "    40% {\n",
              "      border-color: transparent;\n",
              "      border-right-color: var(--fill-color);\n",
              "      border-top-color: var(--fill-color);\n",
              "    }\n",
              "    60% {\n",
              "      border-color: transparent;\n",
              "      border-right-color: var(--fill-color);\n",
              "    }\n",
              "    80% {\n",
              "      border-color: transparent;\n",
              "      border-right-color: var(--fill-color);\n",
              "      border-bottom-color: var(--fill-color);\n",
              "    }\n",
              "    90% {\n",
              "      border-color: transparent;\n",
              "      border-bottom-color: var(--fill-color);\n",
              "    }\n",
              "  }\n",
              "</style>\n",
              "\n",
              "  <script>\n",
              "    async function quickchart(key) {\n",
              "      const quickchartButtonEl =\n",
              "        document.querySelector('#' + key + ' button');\n",
              "      quickchartButtonEl.disabled = true;  // To prevent multiple clicks.\n",
              "      quickchartButtonEl.classList.add('colab-df-spinner');\n",
              "      try {\n",
              "        const charts = await google.colab.kernel.invokeFunction(\n",
              "            'suggestCharts', [key], {});\n",
              "      } catch (error) {\n",
              "        console.error('Error during call to suggestCharts:', error);\n",
              "      }\n",
              "      quickchartButtonEl.classList.remove('colab-df-spinner');\n",
              "      quickchartButtonEl.classList.add('colab-df-quickchart-complete');\n",
              "    }\n",
              "    (() => {\n",
              "      let quickchartButtonEl =\n",
              "        document.querySelector('#df-3921cad6-4247-43a9-9fb0-7c6c3b8a2e75 button');\n",
              "      quickchartButtonEl.style.display =\n",
              "        google.colab.kernel.accessAllowed ? 'block' : 'none';\n",
              "    })();\n",
              "  </script>\n",
              "</div>\n",
              "\n",
              "    </div>\n",
              "  </div>\n"
            ],
            "application/vnd.google.colaboratory.intrinsic+json": {
              "type": "dataframe",
              "variable_name": "df"
            }
          },
          "metadata": {},
          "execution_count": 55
        }
      ]
    },
    {
      "cell_type": "code",
      "source": [
        "df.info()"
      ],
      "metadata": {
        "colab": {
          "base_uri": "https://localhost:8080/"
        },
        "id": "ITp92hJsRCEa",
        "outputId": "248cef27-d355-4252-b0a2-3d6a7eac8d8c"
      },
      "execution_count": null,
      "outputs": [
        {
          "output_type": "stream",
          "name": "stdout",
          "text": [
            "<class 'pandas.core.frame.DataFrame'>\n",
            "RangeIndex: 1606650 entries, 0 to 1606649\n",
            "Data columns (total 3 columns):\n",
            " #   Column    Non-Null Count    Dtype \n",
            "---  ------    --------------    ----- \n",
            " 0   language  1606650 non-null  object\n",
            " 1   label     1606650 non-null  int32 \n",
            " 2   text      1606650 non-null  object\n",
            "dtypes: int32(1), object(2)\n",
            "memory usage: 30.6+ MB\n"
          ]
        }
      ]
    },
    {
      "cell_type": "code",
      "source": [
        "print(type(train_texts))"
      ],
      "metadata": {
        "colab": {
          "base_uri": "https://localhost:8080/"
        },
        "id": "pj5VjxdnRwAH",
        "outputId": "cbf66333-9484-4001-a8df-cc45b254dae7"
      },
      "execution_count": null,
      "outputs": [
        {
          "output_type": "stream",
          "name": "stdout",
          "text": [
            "<class 'pandas.core.series.Series'>\n"
          ]
        }
      ]
    },
    {
      "cell_type": "code",
      "source": [
        "reviews = df[\"text\"].tolist()\n",
        "labels = df[\"label\"].tolist()"
      ],
      "metadata": {
        "id": "lHYdi3fZSsEQ"
      },
      "execution_count": null,
      "outputs": []
    },
    {
      "cell_type": "code",
      "source": [
        "# split the dataset into train, validation and holdout sets (60-20-20)\n",
        "training_sentences, test_sentences, training_labels, test_labels = train_test_split(reviews, labels, test_size=.4)\n",
        "\n",
        "validation_sentences, holdout_sentences, validation_labels, holdout_labels = train_test_split(test_sentences, test_labels, test_size=.5)"
      ],
      "metadata": {
        "id": "tSYB8yfMT2IB"
      },
      "execution_count": null,
      "outputs": []
    },
    {
      "cell_type": "code",
      "source": [
        "tokenizer = BertTokenizer.from_pretrained('bert-base-cased')"
      ],
      "metadata": {
        "colab": {
          "base_uri": "https://localhost:8080/",
          "height": 145,
          "referenced_widgets": [
            "3cd9323304ad4b94bd6b9c0ced2d587c",
            "bf589faad6f04ca2a97ef34791780429",
            "b37e92f47be541c7b579e06057d4b3e6",
            "c0a694ec9974449a84f13319d31b4a48",
            "19a6a26c33e24fad895a8080288c16ee",
            "7b6f80f3e7fe403db55cb43055164411",
            "03a0594b3ce74a84846d75c6df2955b5",
            "d14874944b044ee19e21bd8f38fb7fda",
            "a3f433e91b1f47a8b10d2575325acf55",
            "69537dcc3ce24fa4b2c8ac184bbef3b9",
            "dcc1c989945d4757ab5fe11707595f03",
            "cfabb969a4c5440085533f55ed788951",
            "abc5b5ca8cfb4708bc9c41d620fa8df7",
            "e6a37845e4934c44a5b1a2b93f4e99d6",
            "ea64c2e3b2b94f7a8a05e7bfe6f80905",
            "96b86461c6514bb4abceec580bdfa824",
            "351b1b90b4f849dfbb6d0b84367d8f52",
            "3aaecaa4401747249800b2803639545e",
            "4fa49674305b49bf83c802d418c0f76a",
            "9849177ef3734be6b67d36a9c331f5d2",
            "352a842dd53c413f97606c31dd8701a8",
            "430e793147fc402d8767a9998a6d7ac8",
            "68ad79241aea42b39202c45b4a2e3b36",
            "391760cf646f4e59b15f5d6a648b8915",
            "5f1406c6d8234e929cc867ab43596878",
            "10e778aec36d4690a682ca597e8d0bbb",
            "0369268e585947c4ab72648d826b9799",
            "1fd76009c3d544fda656c1f5656ac075",
            "e3cb25bc3ba9411aba439ade714b7abd",
            "2461dda6e83242a9a66b3689b11acd47",
            "41fc73b7e3d54d6482fa8298bb1bb540",
            "d39b6d3fdadf4390bee72df8c6328071",
            "dd553b6bbfc2478ab7aaff17bbb6f156",
            "a10cb9613acf4248885b2ac2969c906e",
            "ede067103dd542728eb9229b79831ef1",
            "62117271c23b4712a11d6f1a80b857d7",
            "3841fd0d71104df692e167a45be5de1f",
            "101c5f5d2578494789901fcb80327664",
            "853b78522f4347718ed913df79e1ff42",
            "e93c67e9173a4ee495756619400f207c",
            "8e2a814caeee4b3e85eee6093a1650f2",
            "29983017c7204b78a6a3bbde594a90e2",
            "adcb1af90bf44bafa895e926b624827f",
            "73ce6ac78d724270867588818fcff9e2"
          ]
        },
        "id": "uh02Wzo7T8h5",
        "outputId": "f66e097a-dda0-4e9b-8250-45f6794e5330"
      },
      "execution_count": null,
      "outputs": [
        {
          "output_type": "display_data",
          "data": {
            "text/plain": [
              "tokenizer_config.json:   0%|          | 0.00/49.0 [00:00<?, ?B/s]"
            ],
            "application/vnd.jupyter.widget-view+json": {
              "version_major": 2,
              "version_minor": 0,
              "model_id": "3cd9323304ad4b94bd6b9c0ced2d587c"
            }
          },
          "metadata": {}
        },
        {
          "output_type": "display_data",
          "data": {
            "text/plain": [
              "vocab.txt:   0%|          | 0.00/213k [00:00<?, ?B/s]"
            ],
            "application/vnd.jupyter.widget-view+json": {
              "version_major": 2,
              "version_minor": 0,
              "model_id": "cfabb969a4c5440085533f55ed788951"
            }
          },
          "metadata": {}
        },
        {
          "output_type": "display_data",
          "data": {
            "text/plain": [
              "tokenizer.json:   0%|          | 0.00/436k [00:00<?, ?B/s]"
            ],
            "application/vnd.jupyter.widget-view+json": {
              "version_major": 2,
              "version_minor": 0,
              "model_id": "68ad79241aea42b39202c45b4a2e3b36"
            }
          },
          "metadata": {}
        },
        {
          "output_type": "display_data",
          "data": {
            "text/plain": [
              "config.json:   0%|          | 0.00/570 [00:00<?, ?B/s]"
            ],
            "application/vnd.jupyter.widget-view+json": {
              "version_major": 2,
              "version_minor": 0,
              "model_id": "a10cb9613acf4248885b2ac2969c906e"
            }
          },
          "metadata": {}
        }
      ]
    },
    {
      "cell_type": "code",
      "source": [
        "# Example of the tokenizer output\n",
        "tokenizer([training_sentences[0]], truncation=True,\n",
        "                            padding=True, max_length=512)"
      ],
      "metadata": {
        "colab": {
          "base_uri": "https://localhost:8080/"
        },
        "id": "D_mmaIg2T_1u",
        "outputId": "19d173b7-8513-465a-e0da-9f996a3487d7"
      },
      "execution_count": null,
      "outputs": [
        {
          "output_type": "execute_result",
          "data": {
            "text/plain": [
              "{'input_ids': [[101, 5936, 1363, 3094, 102]], 'token_type_ids': [[0, 0, 0, 0, 0]], 'attention_mask': [[1, 1, 1, 1, 1]]}"
            ]
          },
          "metadata": {},
          "execution_count": 71
        }
      ]
    },
    {
      "cell_type": "code",
      "source": [
        "# We convert the input encodings and labels into a TensorFlow Dataset object\n",
        "\n",
        "train_dataset = tf.data.Dataset.from_tensor_slices((\n",
        "                            dict(train_encodings),\n",
        "                            training_labels\n",
        "                            ));\n",
        "\n",
        "validation_dataset = tf.data.Dataset.from_tensor_slices((\n",
        "                            dict(validation_encodings),\n",
        "                            validation_labels\n",
        "                            ));\n",
        "\n",
        "holdout_dataset = tf.data.Dataset.from_tensor_slices((\n",
        "                            dict(holdout_encodings),\n",
        "                            holdout_labels\n",
        "                            ));"
      ],
      "metadata": {
        "id": "kvARBbsCUD4q"
      },
      "execution_count": null,
      "outputs": []
    },
    {
      "cell_type": "code",
      "source": [
        "# We initialize our pre-trained BERT model\n",
        "\n",
        "model = TFBertForSequenceClassification.from_pretrained('bert-base-cased',num_labels=2)"
      ],
      "metadata": {
        "id": "OkX4yp2WUHnz"
      },
      "execution_count": null,
      "outputs": []
    },
    {
      "cell_type": "code",
      "source": [
        "optimizer = tf.keras.optimizers.Adam(learning_rate=2e-5, epsilon=1e-08)\n",
        "model.compile(optimizer=optimizer, loss=model.compute_loss, metrics=['accuracy'])"
      ],
      "metadata": {
        "id": "UeAIZw0iUJK5"
      },
      "execution_count": null,
      "outputs": []
    },
    {
      "cell_type": "code",
      "source": [
        "\n",
        "# 📌 Entrenamiento con MLflow\n",
        "with mlflow.start_run():\n",
        "    mlflow.log_params({\"batch_size\": BATCH_SIZE, \"epochs\": EPOCHS, \"learning_rate\": 5e-5})\n",
        "    history = model.fit(train_dataset, validation_data=validation_dataset, epochs=EPOCHS)\n",
        "\n",
        "    # Registrar métricas\n",
        "    for epoch in range(EPOCHS):\n",
        "        mlflow.log_metric(\"train_accuracy\", history.history['accuracy'][epoch], step=epoch)\n",
        "        mlflow.log_metric(\"val_accuracy\", history.history['val_accuracy'][epoch], step=epoch)\n",
        "\n",
        "    # Guardar modelo en MLflow\n",
        "    mlflow.tensorflow.log_model(model, \"bert_finetuned\")\n",
        "\n",
        "# 📌 Guardar el modelo localmente\n",
        "model.save_pretrained(\"src/models/checkpoints/bert_finetuned\")\n",
        "\n",
        "print(\"✅ Entrenamiento finalizado y modelo guardado.\")\n"
      ],
      "metadata": {
        "id": "0GlikdkMUeVe"
      },
      "execution_count": null,
      "outputs": []
    }
  ],
  "metadata": {
    "colab": {
      "provenance": []
    },
    "kernelspec": {
      "display_name": "Python 3",
      "name": "python3"
    },
    "language_info": {
      "name": "python"
    },
    "widgets": {
      "application/vnd.jupyter.widget-state+json": {
        "3cd9323304ad4b94bd6b9c0ced2d587c": {
          "model_module": "@jupyter-widgets/controls",
          "model_name": "HBoxModel",
          "model_module_version": "1.5.0",
          "state": {
            "_dom_classes": [],
            "_model_module": "@jupyter-widgets/controls",
            "_model_module_version": "1.5.0",
            "_model_name": "HBoxModel",
            "_view_count": null,
            "_view_module": "@jupyter-widgets/controls",
            "_view_module_version": "1.5.0",
            "_view_name": "HBoxView",
            "box_style": "",
            "children": [
              "IPY_MODEL_bf589faad6f04ca2a97ef34791780429",
              "IPY_MODEL_b37e92f47be541c7b579e06057d4b3e6",
              "IPY_MODEL_c0a694ec9974449a84f13319d31b4a48"
            ],
            "layout": "IPY_MODEL_19a6a26c33e24fad895a8080288c16ee"
          }
        },
        "bf589faad6f04ca2a97ef34791780429": {
          "model_module": "@jupyter-widgets/controls",
          "model_name": "HTMLModel",
          "model_module_version": "1.5.0",
          "state": {
            "_dom_classes": [],
            "_model_module": "@jupyter-widgets/controls",
            "_model_module_version": "1.5.0",
            "_model_name": "HTMLModel",
            "_view_count": null,
            "_view_module": "@jupyter-widgets/controls",
            "_view_module_version": "1.5.0",
            "_view_name": "HTMLView",
            "description": "",
            "description_tooltip": null,
            "layout": "IPY_MODEL_7b6f80f3e7fe403db55cb43055164411",
            "placeholder": "​",
            "style": "IPY_MODEL_03a0594b3ce74a84846d75c6df2955b5",
            "value": "tokenizer_config.json: 100%"
          }
        },
        "b37e92f47be541c7b579e06057d4b3e6": {
          "model_module": "@jupyter-widgets/controls",
          "model_name": "FloatProgressModel",
          "model_module_version": "1.5.0",
          "state": {
            "_dom_classes": [],
            "_model_module": "@jupyter-widgets/controls",
            "_model_module_version": "1.5.0",
            "_model_name": "FloatProgressModel",
            "_view_count": null,
            "_view_module": "@jupyter-widgets/controls",
            "_view_module_version": "1.5.0",
            "_view_name": "ProgressView",
            "bar_style": "success",
            "description": "",
            "description_tooltip": null,
            "layout": "IPY_MODEL_d14874944b044ee19e21bd8f38fb7fda",
            "max": 49,
            "min": 0,
            "orientation": "horizontal",
            "style": "IPY_MODEL_a3f433e91b1f47a8b10d2575325acf55",
            "value": 49
          }
        },
        "c0a694ec9974449a84f13319d31b4a48": {
          "model_module": "@jupyter-widgets/controls",
          "model_name": "HTMLModel",
          "model_module_version": "1.5.0",
          "state": {
            "_dom_classes": [],
            "_model_module": "@jupyter-widgets/controls",
            "_model_module_version": "1.5.0",
            "_model_name": "HTMLModel",
            "_view_count": null,
            "_view_module": "@jupyter-widgets/controls",
            "_view_module_version": "1.5.0",
            "_view_name": "HTMLView",
            "description": "",
            "description_tooltip": null,
            "layout": "IPY_MODEL_69537dcc3ce24fa4b2c8ac184bbef3b9",
            "placeholder": "​",
            "style": "IPY_MODEL_dcc1c989945d4757ab5fe11707595f03",
            "value": " 49.0/49.0 [00:00&lt;00:00, 867B/s]"
          }
        },
        "19a6a26c33e24fad895a8080288c16ee": {
          "model_module": "@jupyter-widgets/base",
          "model_name": "LayoutModel",
          "model_module_version": "1.2.0",
          "state": {
            "_model_module": "@jupyter-widgets/base",
            "_model_module_version": "1.2.0",
            "_model_name": "LayoutModel",
            "_view_count": null,
            "_view_module": "@jupyter-widgets/base",
            "_view_module_version": "1.2.0",
            "_view_name": "LayoutView",
            "align_content": null,
            "align_items": null,
            "align_self": null,
            "border": null,
            "bottom": null,
            "display": null,
            "flex": null,
            "flex_flow": null,
            "grid_area": null,
            "grid_auto_columns": null,
            "grid_auto_flow": null,
            "grid_auto_rows": null,
            "grid_column": null,
            "grid_gap": null,
            "grid_row": null,
            "grid_template_areas": null,
            "grid_template_columns": null,
            "grid_template_rows": null,
            "height": null,
            "justify_content": null,
            "justify_items": null,
            "left": null,
            "margin": null,
            "max_height": null,
            "max_width": null,
            "min_height": null,
            "min_width": null,
            "object_fit": null,
            "object_position": null,
            "order": null,
            "overflow": null,
            "overflow_x": null,
            "overflow_y": null,
            "padding": null,
            "right": null,
            "top": null,
            "visibility": null,
            "width": null
          }
        },
        "7b6f80f3e7fe403db55cb43055164411": {
          "model_module": "@jupyter-widgets/base",
          "model_name": "LayoutModel",
          "model_module_version": "1.2.0",
          "state": {
            "_model_module": "@jupyter-widgets/base",
            "_model_module_version": "1.2.0",
            "_model_name": "LayoutModel",
            "_view_count": null,
            "_view_module": "@jupyter-widgets/base",
            "_view_module_version": "1.2.0",
            "_view_name": "LayoutView",
            "align_content": null,
            "align_items": null,
            "align_self": null,
            "border": null,
            "bottom": null,
            "display": null,
            "flex": null,
            "flex_flow": null,
            "grid_area": null,
            "grid_auto_columns": null,
            "grid_auto_flow": null,
            "grid_auto_rows": null,
            "grid_column": null,
            "grid_gap": null,
            "grid_row": null,
            "grid_template_areas": null,
            "grid_template_columns": null,
            "grid_template_rows": null,
            "height": null,
            "justify_content": null,
            "justify_items": null,
            "left": null,
            "margin": null,
            "max_height": null,
            "max_width": null,
            "min_height": null,
            "min_width": null,
            "object_fit": null,
            "object_position": null,
            "order": null,
            "overflow": null,
            "overflow_x": null,
            "overflow_y": null,
            "padding": null,
            "right": null,
            "top": null,
            "visibility": null,
            "width": null
          }
        },
        "03a0594b3ce74a84846d75c6df2955b5": {
          "model_module": "@jupyter-widgets/controls",
          "model_name": "DescriptionStyleModel",
          "model_module_version": "1.5.0",
          "state": {
            "_model_module": "@jupyter-widgets/controls",
            "_model_module_version": "1.5.0",
            "_model_name": "DescriptionStyleModel",
            "_view_count": null,
            "_view_module": "@jupyter-widgets/base",
            "_view_module_version": "1.2.0",
            "_view_name": "StyleView",
            "description_width": ""
          }
        },
        "d14874944b044ee19e21bd8f38fb7fda": {
          "model_module": "@jupyter-widgets/base",
          "model_name": "LayoutModel",
          "model_module_version": "1.2.0",
          "state": {
            "_model_module": "@jupyter-widgets/base",
            "_model_module_version": "1.2.0",
            "_model_name": "LayoutModel",
            "_view_count": null,
            "_view_module": "@jupyter-widgets/base",
            "_view_module_version": "1.2.0",
            "_view_name": "LayoutView",
            "align_content": null,
            "align_items": null,
            "align_self": null,
            "border": null,
            "bottom": null,
            "display": null,
            "flex": null,
            "flex_flow": null,
            "grid_area": null,
            "grid_auto_columns": null,
            "grid_auto_flow": null,
            "grid_auto_rows": null,
            "grid_column": null,
            "grid_gap": null,
            "grid_row": null,
            "grid_template_areas": null,
            "grid_template_columns": null,
            "grid_template_rows": null,
            "height": null,
            "justify_content": null,
            "justify_items": null,
            "left": null,
            "margin": null,
            "max_height": null,
            "max_width": null,
            "min_height": null,
            "min_width": null,
            "object_fit": null,
            "object_position": null,
            "order": null,
            "overflow": null,
            "overflow_x": null,
            "overflow_y": null,
            "padding": null,
            "right": null,
            "top": null,
            "visibility": null,
            "width": null
          }
        },
        "a3f433e91b1f47a8b10d2575325acf55": {
          "model_module": "@jupyter-widgets/controls",
          "model_name": "ProgressStyleModel",
          "model_module_version": "1.5.0",
          "state": {
            "_model_module": "@jupyter-widgets/controls",
            "_model_module_version": "1.5.0",
            "_model_name": "ProgressStyleModel",
            "_view_count": null,
            "_view_module": "@jupyter-widgets/base",
            "_view_module_version": "1.2.0",
            "_view_name": "StyleView",
            "bar_color": null,
            "description_width": ""
          }
        },
        "69537dcc3ce24fa4b2c8ac184bbef3b9": {
          "model_module": "@jupyter-widgets/base",
          "model_name": "LayoutModel",
          "model_module_version": "1.2.0",
          "state": {
            "_model_module": "@jupyter-widgets/base",
            "_model_module_version": "1.2.0",
            "_model_name": "LayoutModel",
            "_view_count": null,
            "_view_module": "@jupyter-widgets/base",
            "_view_module_version": "1.2.0",
            "_view_name": "LayoutView",
            "align_content": null,
            "align_items": null,
            "align_self": null,
            "border": null,
            "bottom": null,
            "display": null,
            "flex": null,
            "flex_flow": null,
            "grid_area": null,
            "grid_auto_columns": null,
            "grid_auto_flow": null,
            "grid_auto_rows": null,
            "grid_column": null,
            "grid_gap": null,
            "grid_row": null,
            "grid_template_areas": null,
            "grid_template_columns": null,
            "grid_template_rows": null,
            "height": null,
            "justify_content": null,
            "justify_items": null,
            "left": null,
            "margin": null,
            "max_height": null,
            "max_width": null,
            "min_height": null,
            "min_width": null,
            "object_fit": null,
            "object_position": null,
            "order": null,
            "overflow": null,
            "overflow_x": null,
            "overflow_y": null,
            "padding": null,
            "right": null,
            "top": null,
            "visibility": null,
            "width": null
          }
        },
        "dcc1c989945d4757ab5fe11707595f03": {
          "model_module": "@jupyter-widgets/controls",
          "model_name": "DescriptionStyleModel",
          "model_module_version": "1.5.0",
          "state": {
            "_model_module": "@jupyter-widgets/controls",
            "_model_module_version": "1.5.0",
            "_model_name": "DescriptionStyleModel",
            "_view_count": null,
            "_view_module": "@jupyter-widgets/base",
            "_view_module_version": "1.2.0",
            "_view_name": "StyleView",
            "description_width": ""
          }
        },
        "cfabb969a4c5440085533f55ed788951": {
          "model_module": "@jupyter-widgets/controls",
          "model_name": "HBoxModel",
          "model_module_version": "1.5.0",
          "state": {
            "_dom_classes": [],
            "_model_module": "@jupyter-widgets/controls",
            "_model_module_version": "1.5.0",
            "_model_name": "HBoxModel",
            "_view_count": null,
            "_view_module": "@jupyter-widgets/controls",
            "_view_module_version": "1.5.0",
            "_view_name": "HBoxView",
            "box_style": "",
            "children": [
              "IPY_MODEL_abc5b5ca8cfb4708bc9c41d620fa8df7",
              "IPY_MODEL_e6a37845e4934c44a5b1a2b93f4e99d6",
              "IPY_MODEL_ea64c2e3b2b94f7a8a05e7bfe6f80905"
            ],
            "layout": "IPY_MODEL_96b86461c6514bb4abceec580bdfa824"
          }
        },
        "abc5b5ca8cfb4708bc9c41d620fa8df7": {
          "model_module": "@jupyter-widgets/controls",
          "model_name": "HTMLModel",
          "model_module_version": "1.5.0",
          "state": {
            "_dom_classes": [],
            "_model_module": "@jupyter-widgets/controls",
            "_model_module_version": "1.5.0",
            "_model_name": "HTMLModel",
            "_view_count": null,
            "_view_module": "@jupyter-widgets/controls",
            "_view_module_version": "1.5.0",
            "_view_name": "HTMLView",
            "description": "",
            "description_tooltip": null,
            "layout": "IPY_MODEL_351b1b90b4f849dfbb6d0b84367d8f52",
            "placeholder": "​",
            "style": "IPY_MODEL_3aaecaa4401747249800b2803639545e",
            "value": "vocab.txt: 100%"
          }
        },
        "e6a37845e4934c44a5b1a2b93f4e99d6": {
          "model_module": "@jupyter-widgets/controls",
          "model_name": "FloatProgressModel",
          "model_module_version": "1.5.0",
          "state": {
            "_dom_classes": [],
            "_model_module": "@jupyter-widgets/controls",
            "_model_module_version": "1.5.0",
            "_model_name": "FloatProgressModel",
            "_view_count": null,
            "_view_module": "@jupyter-widgets/controls",
            "_view_module_version": "1.5.0",
            "_view_name": "ProgressView",
            "bar_style": "success",
            "description": "",
            "description_tooltip": null,
            "layout": "IPY_MODEL_4fa49674305b49bf83c802d418c0f76a",
            "max": 213450,
            "min": 0,
            "orientation": "horizontal",
            "style": "IPY_MODEL_9849177ef3734be6b67d36a9c331f5d2",
            "value": 213450
          }
        },
        "ea64c2e3b2b94f7a8a05e7bfe6f80905": {
          "model_module": "@jupyter-widgets/controls",
          "model_name": "HTMLModel",
          "model_module_version": "1.5.0",
          "state": {
            "_dom_classes": [],
            "_model_module": "@jupyter-widgets/controls",
            "_model_module_version": "1.5.0",
            "_model_name": "HTMLModel",
            "_view_count": null,
            "_view_module": "@jupyter-widgets/controls",
            "_view_module_version": "1.5.0",
            "_view_name": "HTMLView",
            "description": "",
            "description_tooltip": null,
            "layout": "IPY_MODEL_352a842dd53c413f97606c31dd8701a8",
            "placeholder": "​",
            "style": "IPY_MODEL_430e793147fc402d8767a9998a6d7ac8",
            "value": " 213k/213k [00:00&lt;00:00, 1.65MB/s]"
          }
        },
        "96b86461c6514bb4abceec580bdfa824": {
          "model_module": "@jupyter-widgets/base",
          "model_name": "LayoutModel",
          "model_module_version": "1.2.0",
          "state": {
            "_model_module": "@jupyter-widgets/base",
            "_model_module_version": "1.2.0",
            "_model_name": "LayoutModel",
            "_view_count": null,
            "_view_module": "@jupyter-widgets/base",
            "_view_module_version": "1.2.0",
            "_view_name": "LayoutView",
            "align_content": null,
            "align_items": null,
            "align_self": null,
            "border": null,
            "bottom": null,
            "display": null,
            "flex": null,
            "flex_flow": null,
            "grid_area": null,
            "grid_auto_columns": null,
            "grid_auto_flow": null,
            "grid_auto_rows": null,
            "grid_column": null,
            "grid_gap": null,
            "grid_row": null,
            "grid_template_areas": null,
            "grid_template_columns": null,
            "grid_template_rows": null,
            "height": null,
            "justify_content": null,
            "justify_items": null,
            "left": null,
            "margin": null,
            "max_height": null,
            "max_width": null,
            "min_height": null,
            "min_width": null,
            "object_fit": null,
            "object_position": null,
            "order": null,
            "overflow": null,
            "overflow_x": null,
            "overflow_y": null,
            "padding": null,
            "right": null,
            "top": null,
            "visibility": null,
            "width": null
          }
        },
        "351b1b90b4f849dfbb6d0b84367d8f52": {
          "model_module": "@jupyter-widgets/base",
          "model_name": "LayoutModel",
          "model_module_version": "1.2.0",
          "state": {
            "_model_module": "@jupyter-widgets/base",
            "_model_module_version": "1.2.0",
            "_model_name": "LayoutModel",
            "_view_count": null,
            "_view_module": "@jupyter-widgets/base",
            "_view_module_version": "1.2.0",
            "_view_name": "LayoutView",
            "align_content": null,
            "align_items": null,
            "align_self": null,
            "border": null,
            "bottom": null,
            "display": null,
            "flex": null,
            "flex_flow": null,
            "grid_area": null,
            "grid_auto_columns": null,
            "grid_auto_flow": null,
            "grid_auto_rows": null,
            "grid_column": null,
            "grid_gap": null,
            "grid_row": null,
            "grid_template_areas": null,
            "grid_template_columns": null,
            "grid_template_rows": null,
            "height": null,
            "justify_content": null,
            "justify_items": null,
            "left": null,
            "margin": null,
            "max_height": null,
            "max_width": null,
            "min_height": null,
            "min_width": null,
            "object_fit": null,
            "object_position": null,
            "order": null,
            "overflow": null,
            "overflow_x": null,
            "overflow_y": null,
            "padding": null,
            "right": null,
            "top": null,
            "visibility": null,
            "width": null
          }
        },
        "3aaecaa4401747249800b2803639545e": {
          "model_module": "@jupyter-widgets/controls",
          "model_name": "DescriptionStyleModel",
          "model_module_version": "1.5.0",
          "state": {
            "_model_module": "@jupyter-widgets/controls",
            "_model_module_version": "1.5.0",
            "_model_name": "DescriptionStyleModel",
            "_view_count": null,
            "_view_module": "@jupyter-widgets/base",
            "_view_module_version": "1.2.0",
            "_view_name": "StyleView",
            "description_width": ""
          }
        },
        "4fa49674305b49bf83c802d418c0f76a": {
          "model_module": "@jupyter-widgets/base",
          "model_name": "LayoutModel",
          "model_module_version": "1.2.0",
          "state": {
            "_model_module": "@jupyter-widgets/base",
            "_model_module_version": "1.2.0",
            "_model_name": "LayoutModel",
            "_view_count": null,
            "_view_module": "@jupyter-widgets/base",
            "_view_module_version": "1.2.0",
            "_view_name": "LayoutView",
            "align_content": null,
            "align_items": null,
            "align_self": null,
            "border": null,
            "bottom": null,
            "display": null,
            "flex": null,
            "flex_flow": null,
            "grid_area": null,
            "grid_auto_columns": null,
            "grid_auto_flow": null,
            "grid_auto_rows": null,
            "grid_column": null,
            "grid_gap": null,
            "grid_row": null,
            "grid_template_areas": null,
            "grid_template_columns": null,
            "grid_template_rows": null,
            "height": null,
            "justify_content": null,
            "justify_items": null,
            "left": null,
            "margin": null,
            "max_height": null,
            "max_width": null,
            "min_height": null,
            "min_width": null,
            "object_fit": null,
            "object_position": null,
            "order": null,
            "overflow": null,
            "overflow_x": null,
            "overflow_y": null,
            "padding": null,
            "right": null,
            "top": null,
            "visibility": null,
            "width": null
          }
        },
        "9849177ef3734be6b67d36a9c331f5d2": {
          "model_module": "@jupyter-widgets/controls",
          "model_name": "ProgressStyleModel",
          "model_module_version": "1.5.0",
          "state": {
            "_model_module": "@jupyter-widgets/controls",
            "_model_module_version": "1.5.0",
            "_model_name": "ProgressStyleModel",
            "_view_count": null,
            "_view_module": "@jupyter-widgets/base",
            "_view_module_version": "1.2.0",
            "_view_name": "StyleView",
            "bar_color": null,
            "description_width": ""
          }
        },
        "352a842dd53c413f97606c31dd8701a8": {
          "model_module": "@jupyter-widgets/base",
          "model_name": "LayoutModel",
          "model_module_version": "1.2.0",
          "state": {
            "_model_module": "@jupyter-widgets/base",
            "_model_module_version": "1.2.0",
            "_model_name": "LayoutModel",
            "_view_count": null,
            "_view_module": "@jupyter-widgets/base",
            "_view_module_version": "1.2.0",
            "_view_name": "LayoutView",
            "align_content": null,
            "align_items": null,
            "align_self": null,
            "border": null,
            "bottom": null,
            "display": null,
            "flex": null,
            "flex_flow": null,
            "grid_area": null,
            "grid_auto_columns": null,
            "grid_auto_flow": null,
            "grid_auto_rows": null,
            "grid_column": null,
            "grid_gap": null,
            "grid_row": null,
            "grid_template_areas": null,
            "grid_template_columns": null,
            "grid_template_rows": null,
            "height": null,
            "justify_content": null,
            "justify_items": null,
            "left": null,
            "margin": null,
            "max_height": null,
            "max_width": null,
            "min_height": null,
            "min_width": null,
            "object_fit": null,
            "object_position": null,
            "order": null,
            "overflow": null,
            "overflow_x": null,
            "overflow_y": null,
            "padding": null,
            "right": null,
            "top": null,
            "visibility": null,
            "width": null
          }
        },
        "430e793147fc402d8767a9998a6d7ac8": {
          "model_module": "@jupyter-widgets/controls",
          "model_name": "DescriptionStyleModel",
          "model_module_version": "1.5.0",
          "state": {
            "_model_module": "@jupyter-widgets/controls",
            "_model_module_version": "1.5.0",
            "_model_name": "DescriptionStyleModel",
            "_view_count": null,
            "_view_module": "@jupyter-widgets/base",
            "_view_module_version": "1.2.0",
            "_view_name": "StyleView",
            "description_width": ""
          }
        },
        "68ad79241aea42b39202c45b4a2e3b36": {
          "model_module": "@jupyter-widgets/controls",
          "model_name": "HBoxModel",
          "model_module_version": "1.5.0",
          "state": {
            "_dom_classes": [],
            "_model_module": "@jupyter-widgets/controls",
            "_model_module_version": "1.5.0",
            "_model_name": "HBoxModel",
            "_view_count": null,
            "_view_module": "@jupyter-widgets/controls",
            "_view_module_version": "1.5.0",
            "_view_name": "HBoxView",
            "box_style": "",
            "children": [
              "IPY_MODEL_391760cf646f4e59b15f5d6a648b8915",
              "IPY_MODEL_5f1406c6d8234e929cc867ab43596878",
              "IPY_MODEL_10e778aec36d4690a682ca597e8d0bbb"
            ],
            "layout": "IPY_MODEL_0369268e585947c4ab72648d826b9799"
          }
        },
        "391760cf646f4e59b15f5d6a648b8915": {
          "model_module": "@jupyter-widgets/controls",
          "model_name": "HTMLModel",
          "model_module_version": "1.5.0",
          "state": {
            "_dom_classes": [],
            "_model_module": "@jupyter-widgets/controls",
            "_model_module_version": "1.5.0",
            "_model_name": "HTMLModel",
            "_view_count": null,
            "_view_module": "@jupyter-widgets/controls",
            "_view_module_version": "1.5.0",
            "_view_name": "HTMLView",
            "description": "",
            "description_tooltip": null,
            "layout": "IPY_MODEL_1fd76009c3d544fda656c1f5656ac075",
            "placeholder": "​",
            "style": "IPY_MODEL_e3cb25bc3ba9411aba439ade714b7abd",
            "value": "tokenizer.json: 100%"
          }
        },
        "5f1406c6d8234e929cc867ab43596878": {
          "model_module": "@jupyter-widgets/controls",
          "model_name": "FloatProgressModel",
          "model_module_version": "1.5.0",
          "state": {
            "_dom_classes": [],
            "_model_module": "@jupyter-widgets/controls",
            "_model_module_version": "1.5.0",
            "_model_name": "FloatProgressModel",
            "_view_count": null,
            "_view_module": "@jupyter-widgets/controls",
            "_view_module_version": "1.5.0",
            "_view_name": "ProgressView",
            "bar_style": "success",
            "description": "",
            "description_tooltip": null,
            "layout": "IPY_MODEL_2461dda6e83242a9a66b3689b11acd47",
            "max": 435797,
            "min": 0,
            "orientation": "horizontal",
            "style": "IPY_MODEL_41fc73b7e3d54d6482fa8298bb1bb540",
            "value": 435797
          }
        },
        "10e778aec36d4690a682ca597e8d0bbb": {
          "model_module": "@jupyter-widgets/controls",
          "model_name": "HTMLModel",
          "model_module_version": "1.5.0",
          "state": {
            "_dom_classes": [],
            "_model_module": "@jupyter-widgets/controls",
            "_model_module_version": "1.5.0",
            "_model_name": "HTMLModel",
            "_view_count": null,
            "_view_module": "@jupyter-widgets/controls",
            "_view_module_version": "1.5.0",
            "_view_name": "HTMLView",
            "description": "",
            "description_tooltip": null,
            "layout": "IPY_MODEL_d39b6d3fdadf4390bee72df8c6328071",
            "placeholder": "​",
            "style": "IPY_MODEL_dd553b6bbfc2478ab7aaff17bbb6f156",
            "value": " 436k/436k [00:00&lt;00:00, 4.53MB/s]"
          }
        },
        "0369268e585947c4ab72648d826b9799": {
          "model_module": "@jupyter-widgets/base",
          "model_name": "LayoutModel",
          "model_module_version": "1.2.0",
          "state": {
            "_model_module": "@jupyter-widgets/base",
            "_model_module_version": "1.2.0",
            "_model_name": "LayoutModel",
            "_view_count": null,
            "_view_module": "@jupyter-widgets/base",
            "_view_module_version": "1.2.0",
            "_view_name": "LayoutView",
            "align_content": null,
            "align_items": null,
            "align_self": null,
            "border": null,
            "bottom": null,
            "display": null,
            "flex": null,
            "flex_flow": null,
            "grid_area": null,
            "grid_auto_columns": null,
            "grid_auto_flow": null,
            "grid_auto_rows": null,
            "grid_column": null,
            "grid_gap": null,
            "grid_row": null,
            "grid_template_areas": null,
            "grid_template_columns": null,
            "grid_template_rows": null,
            "height": null,
            "justify_content": null,
            "justify_items": null,
            "left": null,
            "margin": null,
            "max_height": null,
            "max_width": null,
            "min_height": null,
            "min_width": null,
            "object_fit": null,
            "object_position": null,
            "order": null,
            "overflow": null,
            "overflow_x": null,
            "overflow_y": null,
            "padding": null,
            "right": null,
            "top": null,
            "visibility": null,
            "width": null
          }
        },
        "1fd76009c3d544fda656c1f5656ac075": {
          "model_module": "@jupyter-widgets/base",
          "model_name": "LayoutModel",
          "model_module_version": "1.2.0",
          "state": {
            "_model_module": "@jupyter-widgets/base",
            "_model_module_version": "1.2.0",
            "_model_name": "LayoutModel",
            "_view_count": null,
            "_view_module": "@jupyter-widgets/base",
            "_view_module_version": "1.2.0",
            "_view_name": "LayoutView",
            "align_content": null,
            "align_items": null,
            "align_self": null,
            "border": null,
            "bottom": null,
            "display": null,
            "flex": null,
            "flex_flow": null,
            "grid_area": null,
            "grid_auto_columns": null,
            "grid_auto_flow": null,
            "grid_auto_rows": null,
            "grid_column": null,
            "grid_gap": null,
            "grid_row": null,
            "grid_template_areas": null,
            "grid_template_columns": null,
            "grid_template_rows": null,
            "height": null,
            "justify_content": null,
            "justify_items": null,
            "left": null,
            "margin": null,
            "max_height": null,
            "max_width": null,
            "min_height": null,
            "min_width": null,
            "object_fit": null,
            "object_position": null,
            "order": null,
            "overflow": null,
            "overflow_x": null,
            "overflow_y": null,
            "padding": null,
            "right": null,
            "top": null,
            "visibility": null,
            "width": null
          }
        },
        "e3cb25bc3ba9411aba439ade714b7abd": {
          "model_module": "@jupyter-widgets/controls",
          "model_name": "DescriptionStyleModel",
          "model_module_version": "1.5.0",
          "state": {
            "_model_module": "@jupyter-widgets/controls",
            "_model_module_version": "1.5.0",
            "_model_name": "DescriptionStyleModel",
            "_view_count": null,
            "_view_module": "@jupyter-widgets/base",
            "_view_module_version": "1.2.0",
            "_view_name": "StyleView",
            "description_width": ""
          }
        },
        "2461dda6e83242a9a66b3689b11acd47": {
          "model_module": "@jupyter-widgets/base",
          "model_name": "LayoutModel",
          "model_module_version": "1.2.0",
          "state": {
            "_model_module": "@jupyter-widgets/base",
            "_model_module_version": "1.2.0",
            "_model_name": "LayoutModel",
            "_view_count": null,
            "_view_module": "@jupyter-widgets/base",
            "_view_module_version": "1.2.0",
            "_view_name": "LayoutView",
            "align_content": null,
            "align_items": null,
            "align_self": null,
            "border": null,
            "bottom": null,
            "display": null,
            "flex": null,
            "flex_flow": null,
            "grid_area": null,
            "grid_auto_columns": null,
            "grid_auto_flow": null,
            "grid_auto_rows": null,
            "grid_column": null,
            "grid_gap": null,
            "grid_row": null,
            "grid_template_areas": null,
            "grid_template_columns": null,
            "grid_template_rows": null,
            "height": null,
            "justify_content": null,
            "justify_items": null,
            "left": null,
            "margin": null,
            "max_height": null,
            "max_width": null,
            "min_height": null,
            "min_width": null,
            "object_fit": null,
            "object_position": null,
            "order": null,
            "overflow": null,
            "overflow_x": null,
            "overflow_y": null,
            "padding": null,
            "right": null,
            "top": null,
            "visibility": null,
            "width": null
          }
        },
        "41fc73b7e3d54d6482fa8298bb1bb540": {
          "model_module": "@jupyter-widgets/controls",
          "model_name": "ProgressStyleModel",
          "model_module_version": "1.5.0",
          "state": {
            "_model_module": "@jupyter-widgets/controls",
            "_model_module_version": "1.5.0",
            "_model_name": "ProgressStyleModel",
            "_view_count": null,
            "_view_module": "@jupyter-widgets/base",
            "_view_module_version": "1.2.0",
            "_view_name": "StyleView",
            "bar_color": null,
            "description_width": ""
          }
        },
        "d39b6d3fdadf4390bee72df8c6328071": {
          "model_module": "@jupyter-widgets/base",
          "model_name": "LayoutModel",
          "model_module_version": "1.2.0",
          "state": {
            "_model_module": "@jupyter-widgets/base",
            "_model_module_version": "1.2.0",
            "_model_name": "LayoutModel",
            "_view_count": null,
            "_view_module": "@jupyter-widgets/base",
            "_view_module_version": "1.2.0",
            "_view_name": "LayoutView",
            "align_content": null,
            "align_items": null,
            "align_self": null,
            "border": null,
            "bottom": null,
            "display": null,
            "flex": null,
            "flex_flow": null,
            "grid_area": null,
            "grid_auto_columns": null,
            "grid_auto_flow": null,
            "grid_auto_rows": null,
            "grid_column": null,
            "grid_gap": null,
            "grid_row": null,
            "grid_template_areas": null,
            "grid_template_columns": null,
            "grid_template_rows": null,
            "height": null,
            "justify_content": null,
            "justify_items": null,
            "left": null,
            "margin": null,
            "max_height": null,
            "max_width": null,
            "min_height": null,
            "min_width": null,
            "object_fit": null,
            "object_position": null,
            "order": null,
            "overflow": null,
            "overflow_x": null,
            "overflow_y": null,
            "padding": null,
            "right": null,
            "top": null,
            "visibility": null,
            "width": null
          }
        },
        "dd553b6bbfc2478ab7aaff17bbb6f156": {
          "model_module": "@jupyter-widgets/controls",
          "model_name": "DescriptionStyleModel",
          "model_module_version": "1.5.0",
          "state": {
            "_model_module": "@jupyter-widgets/controls",
            "_model_module_version": "1.5.0",
            "_model_name": "DescriptionStyleModel",
            "_view_count": null,
            "_view_module": "@jupyter-widgets/base",
            "_view_module_version": "1.2.0",
            "_view_name": "StyleView",
            "description_width": ""
          }
        },
        "a10cb9613acf4248885b2ac2969c906e": {
          "model_module": "@jupyter-widgets/controls",
          "model_name": "HBoxModel",
          "model_module_version": "1.5.0",
          "state": {
            "_dom_classes": [],
            "_model_module": "@jupyter-widgets/controls",
            "_model_module_version": "1.5.0",
            "_model_name": "HBoxModel",
            "_view_count": null,
            "_view_module": "@jupyter-widgets/controls",
            "_view_module_version": "1.5.0",
            "_view_name": "HBoxView",
            "box_style": "",
            "children": [
              "IPY_MODEL_ede067103dd542728eb9229b79831ef1",
              "IPY_MODEL_62117271c23b4712a11d6f1a80b857d7",
              "IPY_MODEL_3841fd0d71104df692e167a45be5de1f"
            ],
            "layout": "IPY_MODEL_101c5f5d2578494789901fcb80327664"
          }
        },
        "ede067103dd542728eb9229b79831ef1": {
          "model_module": "@jupyter-widgets/controls",
          "model_name": "HTMLModel",
          "model_module_version": "1.5.0",
          "state": {
            "_dom_classes": [],
            "_model_module": "@jupyter-widgets/controls",
            "_model_module_version": "1.5.0",
            "_model_name": "HTMLModel",
            "_view_count": null,
            "_view_module": "@jupyter-widgets/controls",
            "_view_module_version": "1.5.0",
            "_view_name": "HTMLView",
            "description": "",
            "description_tooltip": null,
            "layout": "IPY_MODEL_853b78522f4347718ed913df79e1ff42",
            "placeholder": "​",
            "style": "IPY_MODEL_e93c67e9173a4ee495756619400f207c",
            "value": "config.json: 100%"
          }
        },
        "62117271c23b4712a11d6f1a80b857d7": {
          "model_module": "@jupyter-widgets/controls",
          "model_name": "FloatProgressModel",
          "model_module_version": "1.5.0",
          "state": {
            "_dom_classes": [],
            "_model_module": "@jupyter-widgets/controls",
            "_model_module_version": "1.5.0",
            "_model_name": "FloatProgressModel",
            "_view_count": null,
            "_view_module": "@jupyter-widgets/controls",
            "_view_module_version": "1.5.0",
            "_view_name": "ProgressView",
            "bar_style": "success",
            "description": "",
            "description_tooltip": null,
            "layout": "IPY_MODEL_8e2a814caeee4b3e85eee6093a1650f2",
            "max": 570,
            "min": 0,
            "orientation": "horizontal",
            "style": "IPY_MODEL_29983017c7204b78a6a3bbde594a90e2",
            "value": 570
          }
        },
        "3841fd0d71104df692e167a45be5de1f": {
          "model_module": "@jupyter-widgets/controls",
          "model_name": "HTMLModel",
          "model_module_version": "1.5.0",
          "state": {
            "_dom_classes": [],
            "_model_module": "@jupyter-widgets/controls",
            "_model_module_version": "1.5.0",
            "_model_name": "HTMLModel",
            "_view_count": null,
            "_view_module": "@jupyter-widgets/controls",
            "_view_module_version": "1.5.0",
            "_view_name": "HTMLView",
            "description": "",
            "description_tooltip": null,
            "layout": "IPY_MODEL_adcb1af90bf44bafa895e926b624827f",
            "placeholder": "​",
            "style": "IPY_MODEL_73ce6ac78d724270867588818fcff9e2",
            "value": " 570/570 [00:00&lt;00:00, 9.53kB/s]"
          }
        },
        "101c5f5d2578494789901fcb80327664": {
          "model_module": "@jupyter-widgets/base",
          "model_name": "LayoutModel",
          "model_module_version": "1.2.0",
          "state": {
            "_model_module": "@jupyter-widgets/base",
            "_model_module_version": "1.2.0",
            "_model_name": "LayoutModel",
            "_view_count": null,
            "_view_module": "@jupyter-widgets/base",
            "_view_module_version": "1.2.0",
            "_view_name": "LayoutView",
            "align_content": null,
            "align_items": null,
            "align_self": null,
            "border": null,
            "bottom": null,
            "display": null,
            "flex": null,
            "flex_flow": null,
            "grid_area": null,
            "grid_auto_columns": null,
            "grid_auto_flow": null,
            "grid_auto_rows": null,
            "grid_column": null,
            "grid_gap": null,
            "grid_row": null,
            "grid_template_areas": null,
            "grid_template_columns": null,
            "grid_template_rows": null,
            "height": null,
            "justify_content": null,
            "justify_items": null,
            "left": null,
            "margin": null,
            "max_height": null,
            "max_width": null,
            "min_height": null,
            "min_width": null,
            "object_fit": null,
            "object_position": null,
            "order": null,
            "overflow": null,
            "overflow_x": null,
            "overflow_y": null,
            "padding": null,
            "right": null,
            "top": null,
            "visibility": null,
            "width": null
          }
        },
        "853b78522f4347718ed913df79e1ff42": {
          "model_module": "@jupyter-widgets/base",
          "model_name": "LayoutModel",
          "model_module_version": "1.2.0",
          "state": {
            "_model_module": "@jupyter-widgets/base",
            "_model_module_version": "1.2.0",
            "_model_name": "LayoutModel",
            "_view_count": null,
            "_view_module": "@jupyter-widgets/base",
            "_view_module_version": "1.2.0",
            "_view_name": "LayoutView",
            "align_content": null,
            "align_items": null,
            "align_self": null,
            "border": null,
            "bottom": null,
            "display": null,
            "flex": null,
            "flex_flow": null,
            "grid_area": null,
            "grid_auto_columns": null,
            "grid_auto_flow": null,
            "grid_auto_rows": null,
            "grid_column": null,
            "grid_gap": null,
            "grid_row": null,
            "grid_template_areas": null,
            "grid_template_columns": null,
            "grid_template_rows": null,
            "height": null,
            "justify_content": null,
            "justify_items": null,
            "left": null,
            "margin": null,
            "max_height": null,
            "max_width": null,
            "min_height": null,
            "min_width": null,
            "object_fit": null,
            "object_position": null,
            "order": null,
            "overflow": null,
            "overflow_x": null,
            "overflow_y": null,
            "padding": null,
            "right": null,
            "top": null,
            "visibility": null,
            "width": null
          }
        },
        "e93c67e9173a4ee495756619400f207c": {
          "model_module": "@jupyter-widgets/controls",
          "model_name": "DescriptionStyleModel",
          "model_module_version": "1.5.0",
          "state": {
            "_model_module": "@jupyter-widgets/controls",
            "_model_module_version": "1.5.0",
            "_model_name": "DescriptionStyleModel",
            "_view_count": null,
            "_view_module": "@jupyter-widgets/base",
            "_view_module_version": "1.2.0",
            "_view_name": "StyleView",
            "description_width": ""
          }
        },
        "8e2a814caeee4b3e85eee6093a1650f2": {
          "model_module": "@jupyter-widgets/base",
          "model_name": "LayoutModel",
          "model_module_version": "1.2.0",
          "state": {
            "_model_module": "@jupyter-widgets/base",
            "_model_module_version": "1.2.0",
            "_model_name": "LayoutModel",
            "_view_count": null,
            "_view_module": "@jupyter-widgets/base",
            "_view_module_version": "1.2.0",
            "_view_name": "LayoutView",
            "align_content": null,
            "align_items": null,
            "align_self": null,
            "border": null,
            "bottom": null,
            "display": null,
            "flex": null,
            "flex_flow": null,
            "grid_area": null,
            "grid_auto_columns": null,
            "grid_auto_flow": null,
            "grid_auto_rows": null,
            "grid_column": null,
            "grid_gap": null,
            "grid_row": null,
            "grid_template_areas": null,
            "grid_template_columns": null,
            "grid_template_rows": null,
            "height": null,
            "justify_content": null,
            "justify_items": null,
            "left": null,
            "margin": null,
            "max_height": null,
            "max_width": null,
            "min_height": null,
            "min_width": null,
            "object_fit": null,
            "object_position": null,
            "order": null,
            "overflow": null,
            "overflow_x": null,
            "overflow_y": null,
            "padding": null,
            "right": null,
            "top": null,
            "visibility": null,
            "width": null
          }
        },
        "29983017c7204b78a6a3bbde594a90e2": {
          "model_module": "@jupyter-widgets/controls",
          "model_name": "ProgressStyleModel",
          "model_module_version": "1.5.0",
          "state": {
            "_model_module": "@jupyter-widgets/controls",
            "_model_module_version": "1.5.0",
            "_model_name": "ProgressStyleModel",
            "_view_count": null,
            "_view_module": "@jupyter-widgets/base",
            "_view_module_version": "1.2.0",
            "_view_name": "StyleView",
            "bar_color": null,
            "description_width": ""
          }
        },
        "adcb1af90bf44bafa895e926b624827f": {
          "model_module": "@jupyter-widgets/base",
          "model_name": "LayoutModel",
          "model_module_version": "1.2.0",
          "state": {
            "_model_module": "@jupyter-widgets/base",
            "_model_module_version": "1.2.0",
            "_model_name": "LayoutModel",
            "_view_count": null,
            "_view_module": "@jupyter-widgets/base",
            "_view_module_version": "1.2.0",
            "_view_name": "LayoutView",
            "align_content": null,
            "align_items": null,
            "align_self": null,
            "border": null,
            "bottom": null,
            "display": null,
            "flex": null,
            "flex_flow": null,
            "grid_area": null,
            "grid_auto_columns": null,
            "grid_auto_flow": null,
            "grid_auto_rows": null,
            "grid_column": null,
            "grid_gap": null,
            "grid_row": null,
            "grid_template_areas": null,
            "grid_template_columns": null,
            "grid_template_rows": null,
            "height": null,
            "justify_content": null,
            "justify_items": null,
            "left": null,
            "margin": null,
            "max_height": null,
            "max_width": null,
            "min_height": null,
            "min_width": null,
            "object_fit": null,
            "object_position": null,
            "order": null,
            "overflow": null,
            "overflow_x": null,
            "overflow_y": null,
            "padding": null,
            "right": null,
            "top": null,
            "visibility": null,
            "width": null
          }
        },
        "73ce6ac78d724270867588818fcff9e2": {
          "model_module": "@jupyter-widgets/controls",
          "model_name": "DescriptionStyleModel",
          "model_module_version": "1.5.0",
          "state": {
            "_model_module": "@jupyter-widgets/controls",
            "_model_module_version": "1.5.0",
            "_model_name": "DescriptionStyleModel",
            "_view_count": null,
            "_view_module": "@jupyter-widgets/base",
            "_view_module_version": "1.2.0",
            "_view_name": "StyleView",
            "description_width": ""
          }
        }
      }
    }
  },
  "nbformat": 4,
  "nbformat_minor": 0
}